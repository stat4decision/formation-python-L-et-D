{
 "cells": [
  {
   "cell_type": "markdown",
   "metadata": {
    "slideshow": {
     "slide_type": "slide"
    }
   },
   "source": [
    "![image](./images/pandas.png)\n",
    "\n",
    "Pandas est le package de prédilection pour traiter des données structurées.\n",
    "\n",
    "Pandas est basé sur 2 structures extrêmement liées les Series et le DataFrame.\n",
    "\n",
    "Ces deux structures permettent de traiter des données sous forme de tableaux indexés.\n",
    "\n",
    "Les classes de Pandas utilisent des classes de Numpy, il est donc possible d'utiliser les fonctions universelles de Numpy sur les objets Pandas."
   ]
  },
  {
   "cell_type": "code",
   "execution_count": 3,
   "metadata": {
    "slideshow": {
     "slide_type": "subslide"
    }
   },
   "outputs": [],
   "source": [
    "# on importe pandas avec :\n",
    "import pandas as pd\n",
    "import numpy as np\n",
    "%matplotlib inline"
   ]
  },
  {
   "cell_type": "markdown",
   "metadata": {
    "slideshow": {
     "slide_type": "slide"
    }
   },
   "source": [
    "# Les Series de Pandas\n",
    "\n",
    "- Les Series sont indexées, c'est leur avantage sur les arrays de NumPy\n",
    "- On peut utiliser les fonctions `.values` et `.index` pour voir les différentes parties de chaque Series\n",
    "- On définit une Series par `pd.Series([,], index=['','',])`\n",
    "- On peut appeler un élément avec `ma_serie['France']`\n",
    "- On peut aussi faire des conditions :\n",
    "```python\n",
    "ma_serie[ma_serie>5000000]\n",
    "```\n",
    "```\n",
    "'France' in ma_serie\n",
    "```\n",
    "- Les objets Series peuvent être transformés en dictionnaires en utilisant :\n",
    "`.to_dict()`"
   ]
  },
  {
   "cell_type": "code",
   "execution_count": 2,
   "metadata": {},
   "outputs": [],
   "source": [
    "ma_serie = pd.Series([3,6,8],index=[\"lundi\",\"mardi\",\"mercredi\"])"
   ]
  },
  {
   "cell_type": "code",
   "execution_count": 3,
   "metadata": {},
   "outputs": [
    {
     "data": {
      "text/plain": [
       "lundi       3\n",
       "mardi       6\n",
       "mercredi    8\n",
       "dtype: int64"
      ]
     },
     "execution_count": 3,
     "metadata": {},
     "output_type": "execute_result"
    }
   ],
   "source": [
    "ma_serie"
   ]
  },
  {
   "cell_type": "code",
   "execution_count": 4,
   "metadata": {},
   "outputs": [
    {
     "data": {
      "text/plain": [
       "mardi       6\n",
       "mercredi    8\n",
       "dtype: int64"
      ]
     },
     "execution_count": 4,
     "metadata": {},
     "output_type": "execute_result"
    }
   ],
   "source": [
    "ma_serie[ [\"mardi\",\"mercredi\"] ]"
   ]
  },
  {
   "cell_type": "code",
   "execution_count": 5,
   "metadata": {},
   "outputs": [
    {
     "data": {
      "text/plain": [
       "mardi       6\n",
       "mercredi    8\n",
       "dtype: int64"
      ]
     },
     "execution_count": 5,
     "metadata": {},
     "output_type": "execute_result"
    }
   ],
   "source": [
    "ma_serie.iloc[1:3]"
   ]
  },
  {
   "cell_type": "code",
   "execution_count": 6,
   "metadata": {},
   "outputs": [
    {
     "data": {
      "text/plain": [
       "mardi       6\n",
       "mercredi    8\n",
       "dtype: int64"
      ]
     },
     "execution_count": 6,
     "metadata": {},
     "output_type": "execute_result"
    }
   ],
   "source": [
    "ma_serie[ma_serie >= 6]"
   ]
  },
  {
   "cell_type": "markdown",
   "metadata": {
    "slideshow": {
     "slide_type": "subslide"
    }
   },
   "source": [
    "# D'autres opérations sur les objets series\n",
    "\n",
    "- Pour définir le nom de la Series, on utilise `.name`\n",
    "- Pour définir le titre de la colonne des observations, on utilise `.index.name`"
   ]
  },
  {
   "cell_type": "markdown",
   "metadata": {
    "slideshow": {
     "slide_type": "subslide"
    }
   },
   "source": [
    "**Exercice :**\n",
    "    \n",
    "Définir les noms de l’objet et de la colonne des pays pour la Series précédente\n"
   ]
  },
  {
   "cell_type": "code",
   "execution_count": 7,
   "metadata": {},
   "outputs": [
    {
     "data": {
      "text/plain": [
       "Jours\n",
       "lundi       3\n",
       "mardi       6\n",
       "mercredi    8\n",
       "Name: Series de jours, dtype: int64"
      ]
     },
     "execution_count": 7,
     "metadata": {},
     "output_type": "execute_result"
    }
   ],
   "source": [
    "ma_serie.name = \"Series de jours\"\n",
    "ma_serie.index.name = \"Jours\"\n",
    "ma_serie"
   ]
  },
  {
   "cell_type": "markdown",
   "metadata": {
    "slideshow": {
     "slide_type": "subslide"
    }
   },
   "source": [
    "# Les données manquantes\n",
    "\n",
    "Dans pandas, les données manquantes sont identifiés avec les fonctions de Numpy (`np.nan`). On a d'autres fonctions telles que :"
   ]
  },
  {
   "cell_type": "code",
   "execution_count": 8,
   "metadata": {
    "slideshow": {
     "slide_type": "fragment"
    }
   },
   "outputs": [
    {
     "data": {
      "text/plain": [
       "a    False\n",
       "b     True\n",
       "c    False\n",
       "dtype: bool"
      ]
     },
     "execution_count": 8,
     "metadata": {},
     "output_type": "execute_result"
    }
   ],
   "source": [
    "pd.isna(pd.Series([2,np.nan,4],index=['a','b','c']))"
   ]
  },
  {
   "cell_type": "code",
   "execution_count": 9,
   "metadata": {
    "scrolled": true,
    "slideshow": {
     "slide_type": "fragment"
    }
   },
   "outputs": [
    {
     "data": {
      "text/plain": [
       "a     True\n",
       "b    False\n",
       "c     True\n",
       "dtype: bool"
      ]
     },
     "execution_count": 9,
     "metadata": {},
     "output_type": "execute_result"
    }
   ],
   "source": [
    "pd.notna(pd.Series([2,np.nan,4],index=['a','b','c']))"
   ]
  },
  {
   "cell_type": "markdown",
   "metadata": {
    "slideshow": {
     "slide_type": "slide"
    }
   },
   "source": [
    "# Les dates avec pandas\n",
    "\n",
    "- Python possède un module datetime qui permet de gérer facilement des dates\n",
    "- Pandas permet d'appliquer les opérations sur les dates aux Series et aux DataFrame\n",
    "- Le format es dates Python est `YYYY-MM-DD HH:MM:SS`\n",
    "\n",
    "- On peut générer des dates avec la fonction `pd.date_range()` avec différente fréquences `freq=`\n",
    "- On peut utiliser ces dates comme index dans un DataFrame ou dans un objet Series\n",
    "- On peut changer la fréquence en utilisant `.asfreq()`\n",
    "- Pour transformer une chaine de caractère en date, on utilise `pd.to_datetime()` avec l’option `dayfirst=True` si on est dans le cas français\n",
    "-On pourra aussi spécifier un format pour accélérer le processus `%Y%m%d`"
   ]
  },
  {
   "cell_type": "markdown",
   "metadata": {
    "slideshow": {
     "slide_type": "subslide"
    }
   },
   "source": [
    "**Exercice :**\n",
    "\n",
    "Créez un objet Series et ajoutez des dates partant du 3 octobre 2017 par jour jusqu’à aujourd’hui. Afficher le résultat dans un graphique (on utilisera la méthode `.plot()`"
   ]
  },
  {
   "cell_type": "code",
   "execution_count": 10,
   "metadata": {
    "slideshow": {
     "slide_type": "fragment"
    }
   },
   "outputs": [],
   "source": [
    "dates = pd.date_range(pd.datetime.today(),\"2020-01-01\")\n",
    "serie_dates = pd.Series(np.random.randn(len(dates)),index=dates)"
   ]
  },
  {
   "cell_type": "code",
   "execution_count": 11,
   "metadata": {},
   "outputs": [
    {
     "data": {
      "text/plain": [
       "<matplotlib.axes._subplots.AxesSubplot at 0x1a55adb44e0>"
      ]
     },
     "execution_count": 11,
     "metadata": {},
     "output_type": "execute_result"
    },
    {
     "data": {
      "image/png": "[encoded data removed]",
      "text/plain": [
       "<Figure size 432x288 with 1 Axes>"
      ]
     },
     "metadata": {
      "needs_background": "light"
     },
     "output_type": "display_data"
    }
   ],
   "source": [
    "serie_dates.plot()"
   ]
  },
  {
   "cell_type": "markdown",
   "metadata": {
    "slideshow": {
     "slide_type": "subslide"
    }
   },
   "source": [
    "# Aller plus loin avec les dates\n",
    "\n",
    "- On peut définir avec pandas des fuseaux horaires\n",
    "    - On utilise `.tz_localize(\"Europe/Paris\")`\n",
    "    - On peut changer de fuseau horaire avec `.tz_convert()`\n",
    "\n",
    "- On peut aussi travailler sur des périodes plutôt que sur des dates\n",
    "    - On utilise `pd.period_range()`\n"
   ]
  },
  {
   "cell_type": "markdown",
   "metadata": {
    "slideshow": {
     "slide_type": "slide"
    }
   },
   "source": [
    "# Le DataFrame \n",
    "\n",
    "- Les DataFrame sont des objets très souples pouvant être construits de différentes façon\n",
    "- On peut les construire en récupérant des données copier / coller, où directement sur Internet, ou en entrant les valeurs manuellement\n",
    "\n",
    "\n",
    "- Les DataFrame se rapprochent des dictionnaires et on peut construire ces objets en utilisant `DataFrame(dico)`\n",
    "- De nombreux détails sur la création des DataFrame se trouve sur ce site :\n",
    "\n",
    "<http://pandas.pydata.org/pandas-docs/dev/generated/pandas.DataFrame.html>\n"
   ]
  },
  {
   "cell_type": "markdown",
   "metadata": {
    "slideshow": {
     "slide_type": "subslide"
    }
   },
   "source": [
    "# Construction de DataFrame\n",
    "\n",
    "On peut simplement construire un DataFrame avec le classe pd.DataFrame() à partir de différentes structures :"
   ]
  },
  {
   "cell_type": "code",
   "execution_count": 12,
   "metadata": {
    "slideshow": {
     "slide_type": "fragment"
    }
   },
   "outputs": [
    {
     "data": {
      "text/html": [
       "<div>\n",
       "<style scoped>\n",
       "    .dataframe tbody tr th:only-of-type {\n",
       "        vertical-align: middle;\n",
       "    }\n",
       "\n",
       "    .dataframe tbody tr th {\n",
       "        vertical-align: top;\n",
       "    }\n",
       "\n",
       "    .dataframe thead th {\n",
       "        text-align: right;\n",
       "    }\n",
       "</style>\n",
       "<table border=\"1\" class=\"dataframe\">\n",
       "  <thead>\n",
       "    <tr style=\"text-align: right;\">\n",
       "      <th></th>\n",
       "      <th>col_0</th>\n",
       "      <th>col_1</th>\n",
       "    </tr>\n",
       "  </thead>\n",
       "  <tbody>\n",
       "    <tr>\n",
       "      <th>obs_0</th>\n",
       "      <td>0.719309</td>\n",
       "      <td>-1.028889</td>\n",
       "    </tr>\n",
       "    <tr>\n",
       "      <th>obs_1</th>\n",
       "      <td>-0.867425</td>\n",
       "      <td>0.445874</td>\n",
       "    </tr>\n",
       "    <tr>\n",
       "      <th>obs_2</th>\n",
       "      <td>0.053922</td>\n",
       "      <td>0.406056</td>\n",
       "    </tr>\n",
       "    <tr>\n",
       "      <th>obs_3</th>\n",
       "      <td>-1.932852</td>\n",
       "      <td>0.855492</td>\n",
       "    </tr>\n",
       "    <tr>\n",
       "      <th>obs_4</th>\n",
       "      <td>1.156922</td>\n",
       "      <td>-0.438442</td>\n",
       "    </tr>\n",
       "  </tbody>\n",
       "</table>\n",
       "</div>"
      ],
      "text/plain": [
       "          col_0     col_1\n",
       "obs_0  0.719309 -1.028889\n",
       "obs_1 -0.867425  0.445874\n",
       "obs_2  0.053922  0.406056\n",
       "obs_3 -1.932852  0.855492\n",
       "obs_4  1.156922 -0.438442"
      ]
     },
     "execution_count": 12,
     "metadata": {},
     "output_type": "execute_result"
    }
   ],
   "source": [
    "frame1=pd.DataFrame(np.random.randn(10).reshape(5,2),\n",
    "             index=[\"obs_\"+str(i) for i in range(5)],\n",
    "             columns=[\"col_\"+str(i) for i in range(2)])\n",
    "frame1"
   ]
  },
  {
   "cell_type": "markdown",
   "metadata": {
    "slideshow": {
     "slide_type": "subslide"
    }
   },
   "source": [
    "# Opérations sur les DataFrame\n",
    "\n",
    "On peut afficher le nom des colonnes :"
   ]
  },
  {
   "cell_type": "code",
   "execution_count": 13,
   "metadata": {
    "slideshow": {
     "slide_type": "fragment"
    }
   },
   "outputs": [
    {
     "name": "stdout",
     "output_type": "stream",
     "text": [
      "Index(['col_0', 'col_1'], dtype='object')\n"
     ]
    }
   ],
   "source": [
    "print(frame1.columns)"
   ]
  },
  {
   "cell_type": "markdown",
   "metadata": {
    "slideshow": {
     "slide_type": "fragment"
    }
   },
   "source": [
    "On peut accéder à une colonne avec :\n",
    "- `frame1.col_0` : attention au cas de nom de colonnes avec des espaces...\n",
    "- `frame1['col_0']`\n",
    "\n",
    "On peut accéder à une cellule avec :\n",
    "- `frame1.loc['obs1','col_0']` : on utilise les index et le nom des colonnes\n",
    "- `frame1.iloc[1,0]` : on utilise les positions dans le DataFrame\n"
   ]
  },
  {
   "cell_type": "code",
   "execution_count": 14,
   "metadata": {},
   "outputs": [
    {
     "data": {
      "text/plain": [
       "obs_0   -1.028889\n",
       "obs_1    0.445874\n",
       "obs_2    0.406056\n",
       "obs_3    0.855492\n",
       "obs_4   -0.438442\n",
       "Name: col_1, dtype: float64"
      ]
     },
     "execution_count": 14,
     "metadata": {},
     "output_type": "execute_result"
    }
   ],
   "source": [
    "frame1[\"col_1\"]"
   ]
  },
  {
   "cell_type": "code",
   "execution_count": 15,
   "metadata": {},
   "outputs": [
    {
     "name": "stdout",
     "output_type": "stream",
     "text": [
      "-0.17402506842819326\n",
      "0.04801826136347555\n"
     ]
    }
   ],
   "source": [
    "for col in frame1.columns:\n",
    "    print(frame1[col].mean())"
   ]
  },
  {
   "cell_type": "code",
   "execution_count": 16,
   "metadata": {},
   "outputs": [
    {
     "data": {
      "text/plain": [
       "col_0   -0.174025\n",
       "col_1    0.048018\n",
       "dtype: float64"
      ]
     },
     "execution_count": 16,
     "metadata": {},
     "output_type": "execute_result"
    }
   ],
   "source": [
    "frame1.mean()"
   ]
  },
  {
   "cell_type": "code",
   "execution_count": 17,
   "metadata": {},
   "outputs": [
    {
     "data": {
      "text/plain": [
       "col_0   -0.867425\n",
       "col_1    0.445874\n",
       "Name: obs_1, dtype: float64"
      ]
     },
     "execution_count": 17,
     "metadata": {},
     "output_type": "execute_result"
    }
   ],
   "source": [
    "frame1.loc[\"obs_1\"]"
   ]
  },
  {
   "cell_type": "markdown",
   "metadata": {
    "slideshow": {
     "slide_type": "subslide"
    }
   },
   "source": [
    "# Options de visualisation et de résumé\n",
    "\n",
    "Pour afficher les 3 premières lignes, on peut utiliser :\n"
   ]
  },
  {
   "cell_type": "code",
   "execution_count": 18,
   "metadata": {
    "slideshow": {
     "slide_type": "fragment"
    }
   },
   "outputs": [
    {
     "data": {
      "text/html": [
       "<div>\n",
       "<style scoped>\n",
       "    .dataframe tbody tr th:only-of-type {\n",
       "        vertical-align: middle;\n",
       "    }\n",
       "\n",
       "    .dataframe tbody tr th {\n",
       "        vertical-align: top;\n",
       "    }\n",
       "\n",
       "    .dataframe thead th {\n",
       "        text-align: right;\n",
       "    }\n",
       "</style>\n",
       "<table border=\"1\" class=\"dataframe\">\n",
       "  <thead>\n",
       "    <tr style=\"text-align: right;\">\n",
       "      <th></th>\n",
       "      <th>col_0</th>\n",
       "      <th>col_1</th>\n",
       "    </tr>\n",
       "  </thead>\n",
       "  <tbody>\n",
       "    <tr>\n",
       "      <th>obs_0</th>\n",
       "      <td>0.719309</td>\n",
       "      <td>-1.028889</td>\n",
       "    </tr>\n",
       "    <tr>\n",
       "      <th>obs_1</th>\n",
       "      <td>-0.867425</td>\n",
       "      <td>0.445874</td>\n",
       "    </tr>\n",
       "    <tr>\n",
       "      <th>obs_2</th>\n",
       "      <td>0.053922</td>\n",
       "      <td>0.406056</td>\n",
       "    </tr>\n",
       "  </tbody>\n",
       "</table>\n",
       "</div>"
      ],
      "text/plain": [
       "          col_0     col_1\n",
       "obs_0  0.719309 -1.028889\n",
       "obs_1 -0.867425  0.445874\n",
       "obs_2  0.053922  0.406056"
      ]
     },
     "execution_count": 18,
     "metadata": {},
     "output_type": "execute_result"
    }
   ],
   "source": [
    "frame1.head(3)"
   ]
  },
  {
   "cell_type": "markdown",
   "metadata": {
    "slideshow": {
     "slide_type": "subslide"
    }
   },
   "source": [
    "Pour afficher un résumé du DF :"
   ]
  },
  {
   "cell_type": "code",
   "execution_count": 19,
   "metadata": {
    "slideshow": {
     "slide_type": "fragment"
    }
   },
   "outputs": [
    {
     "name": "stdout",
     "output_type": "stream",
     "text": [
      "<class 'pandas.core.frame.DataFrame'>\n",
      "Index: 5 entries, obs_0 to obs_4\n",
      "Data columns (total 2 columns):\n",
      "col_0    5 non-null float64\n",
      "col_1    5 non-null float64\n",
      "dtypes: float64(2)\n",
      "memory usage: 280.0+ bytes\n"
     ]
    }
   ],
   "source": [
    "frame1.info()"
   ]
  },
  {
   "cell_type": "markdown",
   "metadata": {
    "slideshow": {
     "slide_type": "slide"
    }
   },
   "source": [
    "# Importer des données externes\n",
    "\n",
    "Pandas est l'outil le plus efficace pour importer des données externes, il prend en charge de nombreux formats dont csv, Excel, SQL, SAS...\n",
    "\n",
    "\n",
    "## Importation de données avec Pandas\n",
    "\n",
    "Quel que soit le type de fichier, Pandas possède une fonction :\n",
    "```python\n",
    "frame=pd.read_...('chemin_du_fichier/nom_du_fichier',...)\n",
    "```\n",
    "Pour écrire un DataFrame dans un fichier, on utilise :\n",
    "```python\n",
    "frame.to_...('chemin_du_fichier/nom_du_fichier',...)\n",
    "```"
   ]
  },
  {
   "cell_type": "markdown",
   "metadata": {
    "slideshow": {
     "slide_type": "subslide"
    }
   },
   "source": [
    "**Exercice :**\n",
    "    \n",
    "Importer un fichier `.csv` avec `pd.read_csv()`. On utilisera le fichier \"./data/airbnb.csv\""
   ]
  },
  {
   "cell_type": "code",
   "execution_count": 20,
   "metadata": {},
   "outputs": [
    {
     "data": {
      "text/plain": [
       "'C:\\\\Users\\\\s4d-asus-14\\\\Desktop\\\\python_slides_3days\\\\cle_fev_19'"
      ]
     },
     "execution_count": 20,
     "metadata": {},
     "output_type": "execute_result"
    }
   ],
   "source": [
    "# afficher le répertoire de travail\n",
    "%pwd"
   ]
  },
  {
   "cell_type": "code",
   "execution_count": null,
   "metadata": {},
   "outputs": [],
   "source": [
    "frame_airbnb = pd.read_csv(\"https://www.stat4decision.com/airbnb.csv\",index_col = 0)"
   ]
  },
  {
   "cell_type": "code",
   "execution_count": 22,
   "metadata": {
    "scrolled": true
   },
   "outputs": [],
   "source": [
    "frame_airbnb[\"price_num\"] = pd.to_numeric(frame_airbnb[\"price\"].str[1:].str.replace(\",\",\"\"))"
   ]
  },
  {
   "cell_type": "code",
   "execution_count": 23,
   "metadata": {},
   "outputs": [],
   "source": [
    "frame_airbnb[\"price_num\"] = frame_airbnb[\"price\"].str[1:]\n",
    "frame_airbnb[\"price_num\"] = frame_airbnb[\"price_num\"].str.replace(\",\",\"\")\n",
    "frame_airbnb[\"price_num\"] = pd.to_numeric(frame_airbnb[\"price_num\"])"
   ]
  },
  {
   "cell_type": "code",
   "execution_count": 25,
   "metadata": {},
   "outputs": [
    {
     "data": {
      "text/plain": [
       "7790.0"
      ]
     },
     "execution_count": 25,
     "metadata": {},
     "output_type": "execute_result"
    }
   ],
   "source": [
    "# on peut maintenant calculer la moyenne\n",
    "frame_airbnb[\"price_num\"].max()"
   ]
  },
  {
   "cell_type": "code",
   "execution_count": 28,
   "metadata": {},
   "outputs": [
    {
     "data": {
      "text/plain": [
       "listing_url                                     https://www.airbnb.com/rooms/13649901\n",
       "scrape_id                                                              20170404145355\n",
       "last_scraped                                                               2017-04-05\n",
       "name                                                   Eiffel Garden Triplex (117333)\n",
       "summary                             In the supremely chic 16th arrondissement, the...\n",
       "space                               In the supremely chic 16th arrondissement, the...\n",
       "description                         In the supremely chic 16th arrondissement, the...\n",
       "experiences_offered                                                              none\n",
       "neighborhood_overview               Location: Paris 16th arrondissement, over view...\n",
       "notes                               Rates are subject to change without prior noti...\n",
       "transit                             Transfers and car rentals may be arranged. Ple...\n",
       "access                              Activities: Walking Attractions: ATM/Bank Groc...\n",
       "interaction                                                                       NaN\n",
       "house_rules                                                                       NaN\n",
       "thumbnail_url                                                                     NaN\n",
       "medium_url                                                                        NaN\n",
       "picture_url                         https://a0.muscache.com/im/pictures/814b5a80-e...\n",
       "xl_picture_url                                                                    NaN\n",
       "host_id                                                                      48866007\n",
       "host_url                                   https://www.airbnb.com/users/show/48866007\n",
       "host_name                                                              Rental Escapes\n",
       "host_since                                                                 2015-11-12\n",
       "host_location                                                                      CA\n",
       "host_about                          Our Team at Rental Escapes creates personalize...\n",
       "host_response_time                                                       within a day\n",
       "host_response_rate                                                               100%\n",
       "host_acceptance_rate                                                              NaN\n",
       "host_is_superhost                                                                   f\n",
       "host_thumbnail_url                  https://a0.muscache.com/im/pictures/5fa39f2b-6...\n",
       "host_picture_url                    https://a0.muscache.com/im/pictures/5fa39f2b-6...\n",
       "                                                          ...                        \n",
       "extra_people                                                                    $0.00\n",
       "minimum_nights                                                                      7\n",
       "maximum_nights                                                                   1125\n",
       "calendar_updated                                                                today\n",
       "has_availability                                                                  NaN\n",
       "availability_30                                                                    30\n",
       "availability_60                                                                    60\n",
       "availability_90                                                                    90\n",
       "availability_365                                                                  365\n",
       "calendar_last_scraped                                                      2017-04-04\n",
       "number_of_reviews                                                                   0\n",
       "first_review                                                                      NaN\n",
       "last_review                                                                       NaN\n",
       "review_scores_rating                                                              NaN\n",
       "review_scores_accuracy                                                            NaN\n",
       "review_scores_cleanliness                                                         NaN\n",
       "review_scores_checkin                                                             NaN\n",
       "review_scores_communication                                                       NaN\n",
       "review_scores_location                                                            NaN\n",
       "review_scores_value                                                               NaN\n",
       "requires_license                                                                    f\n",
       "license                                                                           NaN\n",
       "jurisdiction_names                                                              Paris\n",
       "instant_bookable                                                                    f\n",
       "cancellation_policy                                                   super_strict_60\n",
       "require_guest_profile_picture                                                       f\n",
       "require_guest_phone_verification                                                    f\n",
       "calculated_host_listings_count                                                      3\n",
       "reviews_per_month                                                                 NaN\n",
       "price_num                                                                        7790\n",
       "Name: 13649901, Length: 95, dtype: object"
      ]
     },
     "execution_count": 28,
     "metadata": {},
     "output_type": "execute_result"
    }
   ],
   "source": [
    "# on peut extraire l'appartement le plus cher\n",
    "frame_airbnb.loc[frame_airbnb[\"price_num\"].idxmax()]"
   ]
  },
  {
   "cell_type": "markdown",
   "metadata": {
    "slideshow": {
     "slide_type": "subslide"
    }
   },
   "source": [
    "# D'autres types de données\n",
    "\n",
    "## JSON\n",
    "Les objets JSON ressemblent à des dictionnaires.\n",
    "\n",
    "On utilise le module `json` puis la fonction `json.loads()` pour transformer une entrée JSON en objet json\n",
    "\n",
    "## HTML\n",
    "On utilise `pd.read_html(url)`. Cet fonction est basée sur les packages `beautifulsoup` et `html5lib`\n",
    "\n",
    "Cette fonction renvoie une liste de DataFrame qui représentent tous les DataFrame de la page. On ira ensuite chercher l'élément qui nous intéresse avec `frame_list[0]`"
   ]
  },
  {
   "cell_type": "markdown",
   "metadata": {
    "slideshow": {
     "slide_type": "subslide"
    }
   },
   "source": [
    "**Exercice :**\n",
    "    \n",
    "Importez un tableau en html depuis la page <http://www.fdic.gov/bank/individual/failed/banklist.html>"
   ]
  },
  {
   "cell_type": "code",
   "execution_count": 29,
   "metadata": {},
   "outputs": [],
   "source": [
    "bank = pd.read_html(\"http://www.fdic.gov/bank/individual/failed/banklist.html\")"
   ]
  },
  {
   "cell_type": "code",
   "execution_count": 30,
   "metadata": {},
   "outputs": [
    {
     "data": {
      "text/plain": [
       "pandas.core.frame.DataFrame"
      ]
     },
     "execution_count": 30,
     "metadata": {},
     "output_type": "execute_result"
    }
   ],
   "source": [
    "type(bank[0])"
   ]
  },
  {
   "cell_type": "code",
   "execution_count": 31,
   "metadata": {},
   "outputs": [
    {
     "data": {
      "text/html": [
       "<div>\n",
       "<style scoped>\n",
       "    .dataframe tbody tr th:only-of-type {\n",
       "        vertical-align: middle;\n",
       "    }\n",
       "\n",
       "    .dataframe tbody tr th {\n",
       "        vertical-align: top;\n",
       "    }\n",
       "\n",
       "    .dataframe thead th {\n",
       "        text-align: right;\n",
       "    }\n",
       "</style>\n",
       "<table border=\"1\" class=\"dataframe\">\n",
       "  <thead>\n",
       "    <tr style=\"text-align: right;\">\n",
       "      <th></th>\n",
       "      <th>Bank Name</th>\n",
       "      <th>City</th>\n",
       "      <th>ST</th>\n",
       "      <th>CERT</th>\n",
       "      <th>Acquiring Institution</th>\n",
       "      <th>Closing Date</th>\n",
       "      <th>Updated Date</th>\n",
       "    </tr>\n",
       "  </thead>\n",
       "  <tbody>\n",
       "    <tr>\n",
       "      <th>0</th>\n",
       "      <td>Washington Federal Bank for Savings</td>\n",
       "      <td>Chicago</td>\n",
       "      <td>IL</td>\n",
       "      <td>30570</td>\n",
       "      <td>Royal Savings Bank</td>\n",
       "      <td>December 15, 2017</td>\n",
       "      <td>February 1, 2019</td>\n",
       "    </tr>\n",
       "    <tr>\n",
       "      <th>1</th>\n",
       "      <td>The Farmers and Merchants State Bank of Argonia</td>\n",
       "      <td>Argonia</td>\n",
       "      <td>KS</td>\n",
       "      <td>17719</td>\n",
       "      <td>Conway Bank</td>\n",
       "      <td>October 13, 2017</td>\n",
       "      <td>February 21, 2018</td>\n",
       "    </tr>\n",
       "    <tr>\n",
       "      <th>2</th>\n",
       "      <td>Fayette County Bank</td>\n",
       "      <td>Saint Elmo</td>\n",
       "      <td>IL</td>\n",
       "      <td>1802</td>\n",
       "      <td>United Fidelity Bank, fsb</td>\n",
       "      <td>May 26, 2017</td>\n",
       "      <td>January 29, 2019</td>\n",
       "    </tr>\n",
       "    <tr>\n",
       "      <th>3</th>\n",
       "      <td>Guaranty Bank, (d/b/a BestBank in Georgia &amp; Mi...</td>\n",
       "      <td>Milwaukee</td>\n",
       "      <td>WI</td>\n",
       "      <td>30003</td>\n",
       "      <td>First-Citizens Bank &amp; Trust Company</td>\n",
       "      <td>May 5, 2017</td>\n",
       "      <td>March 22, 2018</td>\n",
       "    </tr>\n",
       "    <tr>\n",
       "      <th>4</th>\n",
       "      <td>First NBC Bank</td>\n",
       "      <td>New Orleans</td>\n",
       "      <td>LA</td>\n",
       "      <td>58302</td>\n",
       "      <td>Whitney Bank</td>\n",
       "      <td>April 28, 2017</td>\n",
       "      <td>January 29, 2019</td>\n",
       "    </tr>\n",
       "  </tbody>\n",
       "</table>\n",
       "</div>"
      ],
      "text/plain": [
       "                                           Bank Name         City  ST   CERT  \\\n",
       "0                Washington Federal Bank for Savings      Chicago  IL  30570   \n",
       "1    The Farmers and Merchants State Bank of Argonia      Argonia  KS  17719   \n",
       "2                                Fayette County Bank   Saint Elmo  IL   1802   \n",
       "3  Guaranty Bank, (d/b/a BestBank in Georgia & Mi...    Milwaukee  WI  30003   \n",
       "4                                     First NBC Bank  New Orleans  LA  58302   \n",
       "\n",
       "                 Acquiring Institution       Closing Date       Updated Date  \n",
       "0                   Royal Savings Bank  December 15, 2017   February 1, 2019  \n",
       "1                          Conway Bank   October 13, 2017  February 21, 2018  \n",
       "2            United Fidelity Bank, fsb       May 26, 2017   January 29, 2019  \n",
       "3  First-Citizens Bank & Trust Company        May 5, 2017     March 22, 2018  \n",
       "4                         Whitney Bank     April 28, 2017   January 29, 2019  "
      ]
     },
     "execution_count": 31,
     "metadata": {},
     "output_type": "execute_result"
    }
   ],
   "source": [
    "bank[0].head()"
   ]
  },
  {
   "cell_type": "code",
   "execution_count": 32,
   "metadata": {},
   "outputs": [],
   "source": [
    "# on récupère d'autres données depuis le web\n",
    "nba = pd.read_html(\"https://en.wikipedia.org/wiki/List_of_all-time_NBA_win-loss_records\",\n",
    "                   header=\"infer\")"
   ]
  },
  {
   "cell_type": "code",
   "execution_count": 33,
   "metadata": {},
   "outputs": [
    {
     "data": {
      "text/plain": [
       "11"
      ]
     },
     "execution_count": 33,
     "metadata": {},
     "output_type": "execute_result"
    }
   ],
   "source": [
    "# il y a 11 tableaux sur la page\n",
    "len(nba)"
   ]
  },
  {
   "cell_type": "code",
   "execution_count": 35,
   "metadata": {},
   "outputs": [
    {
     "data": {
      "text/html": [
       "<div>\n",
       "<style scoped>\n",
       "    .dataframe tbody tr th:only-of-type {\n",
       "        vertical-align: middle;\n",
       "    }\n",
       "\n",
       "    .dataframe tbody tr th {\n",
       "        vertical-align: top;\n",
       "    }\n",
       "\n",
       "    .dataframe thead th {\n",
       "        text-align: right;\n",
       "    }\n",
       "</style>\n",
       "<table border=\"1\" class=\"dataframe\">\n",
       "  <thead>\n",
       "    <tr style=\"text-align: right;\">\n",
       "      <th></th>\n",
       "      <th>Rank</th>\n",
       "      <th>Team</th>\n",
       "      <th>Won</th>\n",
       "      <th>Lost</th>\n",
       "      <th>Pct.</th>\n",
       "      <th>Last playoffappearance</th>\n",
       "      <th>Total games</th>\n",
       "      <th>Division</th>\n",
       "    </tr>\n",
       "  </thead>\n",
       "  <tbody>\n",
       "    <tr>\n",
       "      <th>0</th>\n",
       "      <td>1</td>\n",
       "      <td>Los Angeles Lakers</td>\n",
       "      <td>438</td>\n",
       "      <td>296</td>\n",
       "      <td>0.597</td>\n",
       "      <td>2013</td>\n",
       "      <td>734</td>\n",
       "      <td>Pacific</td>\n",
       "    </tr>\n",
       "    <tr>\n",
       "      <th>1</th>\n",
       "      <td>2</td>\n",
       "      <td>Boston Celtics</td>\n",
       "      <td>366</td>\n",
       "      <td>278</td>\n",
       "      <td>0.568</td>\n",
       "      <td>2018</td>\n",
       "      <td>644</td>\n",
       "      <td>Atlantic</td>\n",
       "    </tr>\n",
       "    <tr>\n",
       "      <th>2</th>\n",
       "      <td>3</td>\n",
       "      <td>Miami Heat</td>\n",
       "      <td>124</td>\n",
       "      <td>100</td>\n",
       "      <td>0.554</td>\n",
       "      <td>2018</td>\n",
       "      <td>224</td>\n",
       "      <td>Southeast</td>\n",
       "    </tr>\n",
       "    <tr>\n",
       "      <th>3</th>\n",
       "      <td>4</td>\n",
       "      <td>San Antonio Spurs</td>\n",
       "      <td>219</td>\n",
       "      <td>177</td>\n",
       "      <td>0.553</td>\n",
       "      <td>2018</td>\n",
       "      <td>396</td>\n",
       "      <td>Southwest</td>\n",
       "    </tr>\n",
       "    <tr>\n",
       "      <th>4</th>\n",
       "      <td>5</td>\n",
       "      <td>Cleveland Cavaliers</td>\n",
       "      <td>125</td>\n",
       "      <td>104</td>\n",
       "      <td>0.546</td>\n",
       "      <td>2018</td>\n",
       "      <td>229</td>\n",
       "      <td>Central</td>\n",
       "    </tr>\n",
       "  </tbody>\n",
       "</table>\n",
       "</div>"
      ],
      "text/plain": [
       "   Rank                 Team  Won  Lost   Pct.  Last playoffappearance  \\\n",
       "0     1   Los Angeles Lakers  438   296  0.597                    2013   \n",
       "1     2       Boston Celtics  366   278  0.568                    2018   \n",
       "2     3           Miami Heat  124   100  0.554                    2018   \n",
       "3     4    San Antonio Spurs  219   177  0.553                    2018   \n",
       "4     5  Cleveland Cavaliers  125   104  0.546                    2018   \n",
       "\n",
       "   Total games   Division  \n",
       "0          734    Pacific  \n",
       "1          644   Atlantic  \n",
       "2          224  Southeast  \n",
       "3          396  Southwest  \n",
       "4          229    Central  "
      ]
     },
     "execution_count": 35,
     "metadata": {},
     "output_type": "execute_result"
    }
   ],
   "source": [
    "# voici le 4ème\n",
    "nba[3].head()"
   ]
  },
  {
   "cell_type": "markdown",
   "metadata": {
    "slideshow": {
     "slide_type": "subslide"
    }
   },
   "source": [
    "# Importer depuis Excel\n",
    "\n",
    "On a deux approches pour Excel :\n",
    "- On peut utiliser `pd.read_excel()`\n",
    "- On peut utiliser la classe `pd.ExcelFile()`\n",
    "\n",
    "Dans ce cas, on utilise :\n",
    "```python\n",
    "xlsfile=pd.ExcelFile('fichier.xlsx')\n",
    "xlsfile.parse('Sheet1')\n",
    "```"
   ]
  },
  {
   "cell_type": "markdown",
   "metadata": {
    "slideshow": {
     "slide_type": "subslide"
    }
   },
   "source": [
    "**Exercice :** \n",
    "    \n",
    "Importez un fichier Excel avec les deux approches, on utilisera : `credit2.xlsx` et `ville.xls`"
   ]
  },
  {
   "cell_type": "code",
   "execution_count": 36,
   "metadata": {},
   "outputs": [],
   "source": [
    "credit = pd.read_excel(\"./data/credit2.xlsx\")"
   ]
  },
  {
   "cell_type": "code",
   "execution_count": 37,
   "metadata": {},
   "outputs": [
    {
     "data": {
      "text/html": [
       "<div>\n",
       "<style scoped>\n",
       "    .dataframe tbody tr th:only-of-type {\n",
       "        vertical-align: middle;\n",
       "    }\n",
       "\n",
       "    .dataframe tbody tr th {\n",
       "        vertical-align: top;\n",
       "    }\n",
       "\n",
       "    .dataframe thead th {\n",
       "        text-align: right;\n",
       "    }\n",
       "</style>\n",
       "<table border=\"1\" class=\"dataframe\">\n",
       "  <thead>\n",
       "    <tr style=\"text-align: right;\">\n",
       "      <th></th>\n",
       "      <th>Age</th>\n",
       "      <th>Gender</th>\n",
       "      <th>Marital_Status</th>\n",
       "      <th>Age_Youngest_Child</th>\n",
       "      <th>Number_of_Workers_in_Household</th>\n",
       "      <th>Percentage_White_Collar_Workers</th>\n",
       "      <th>Household_Debt_to_Equity_Ratio</th>\n",
       "      <th>Income</th>\n",
       "      <th>Homeowner</th>\n",
       "      <th>Customer_ID</th>\n",
       "    </tr>\n",
       "  </thead>\n",
       "  <tbody>\n",
       "    <tr>\n",
       "      <th>0</th>\n",
       "      <td>40</td>\n",
       "      <td>F</td>\n",
       "      <td>S</td>\n",
       "      <td>11</td>\n",
       "      <td>6</td>\n",
       "      <td>37</td>\n",
       "      <td>56</td>\n",
       "      <td>37073</td>\n",
       "      <td>F</td>\n",
       "      <td>5409</td>\n",
       "    </tr>\n",
       "    <tr>\n",
       "      <th>1</th>\n",
       "      <td>47</td>\n",
       "      <td>M</td>\n",
       "      <td>M</td>\n",
       "      <td>13</td>\n",
       "      <td>13</td>\n",
       "      <td>30</td>\n",
       "      <td>56</td>\n",
       "      <td>50721</td>\n",
       "      <td>F</td>\n",
       "      <td>5477</td>\n",
       "    </tr>\n",
       "    <tr>\n",
       "      <th>2</th>\n",
       "      <td>35</td>\n",
       "      <td>F</td>\n",
       "      <td>U</td>\n",
       "      <td>1</td>\n",
       "      <td>9</td>\n",
       "      <td>33</td>\n",
       "      <td>57</td>\n",
       "      <td>43578</td>\n",
       "      <td>T</td>\n",
       "      <td>5507</td>\n",
       "    </tr>\n",
       "    <tr>\n",
       "      <th>3</th>\n",
       "      <td>45</td>\n",
       "      <td>M</td>\n",
       "      <td>U</td>\n",
       "      <td>15</td>\n",
       "      <td>7</td>\n",
       "      <td>30</td>\n",
       "      <td>62</td>\n",
       "      <td>69553</td>\n",
       "      <td>F</td>\n",
       "      <td>8</td>\n",
       "    </tr>\n",
       "    <tr>\n",
       "      <th>4</th>\n",
       "      <td>13</td>\n",
       "      <td>F</td>\n",
       "      <td>S</td>\n",
       "      <td>0</td>\n",
       "      <td>7</td>\n",
       "      <td>27</td>\n",
       "      <td>64</td>\n",
       "      <td>37502</td>\n",
       "      <td>T</td>\n",
       "      <td>158</td>\n",
       "    </tr>\n",
       "  </tbody>\n",
       "</table>\n",
       "</div>"
      ],
      "text/plain": [
       "   Age Gender Marital_Status  Age_Youngest_Child  \\\n",
       "0   40      F              S                  11   \n",
       "1   47      M              M                  13   \n",
       "2   35      F              U                   1   \n",
       "3   45      M              U                  15   \n",
       "4   13      F              S                   0   \n",
       "\n",
       "   Number_of_Workers_in_Household  Percentage_White_Collar_Workers  \\\n",
       "0                               6                               37   \n",
       "1                              13                               30   \n",
       "2                               9                               33   \n",
       "3                               7                               30   \n",
       "4                               7                               27   \n",
       "\n",
       "   Household_Debt_to_Equity_Ratio  Income Homeowner  Customer_ID  \n",
       "0                              56   37073         F         5409  \n",
       "1                              56   50721         F         5477  \n",
       "2                              57   43578         T         5507  \n",
       "3                              62   69553         F            8  \n",
       "4                              64   37502         T          158  "
      ]
     },
     "execution_count": 37,
     "metadata": {},
     "output_type": "execute_result"
    }
   ],
   "source": [
    "credit.head()"
   ]
  },
  {
   "cell_type": "code",
   "execution_count": 38,
   "metadata": {},
   "outputs": [],
   "source": [
    "# on crée un objet de la classe ExcelFile\n",
    "villes_excel = pd.ExcelFile(\"./Data/ville.xls\")"
   ]
  },
  {
   "cell_type": "code",
   "execution_count": 39,
   "metadata": {},
   "outputs": [
    {
     "data": {
      "text/plain": [
       "pandas.io.excel.ExcelFile"
      ]
     },
     "execution_count": 39,
     "metadata": {},
     "output_type": "execute_result"
    }
   ],
   "source": [
    "type(villes_excel)"
   ]
  },
  {
   "cell_type": "code",
   "execution_count": 40,
   "metadata": {},
   "outputs": [],
   "source": [
    "# je stocke le nom des feuilles de mon classeur\n",
    "feuilles_ville = villes_excel.sheet_names"
   ]
  },
  {
   "cell_type": "code",
   "execution_count": 41,
   "metadata": {},
   "outputs": [],
   "source": [
    "# j'extrait une feuille dans un DataFrame\n",
    "frame_villes_france = villes_excel.parse(feuilles_ville[0])"
   ]
  },
  {
   "cell_type": "code",
   "execution_count": 42,
   "metadata": {},
   "outputs": [
    {
     "data": {
      "text/html": [
       "<div>\n",
       "<style scoped>\n",
       "    .dataframe tbody tr th:only-of-type {\n",
       "        vertical-align: middle;\n",
       "    }\n",
       "\n",
       "    .dataframe tbody tr th {\n",
       "        vertical-align: top;\n",
       "    }\n",
       "\n",
       "    .dataframe thead th {\n",
       "        text-align: right;\n",
       "    }\n",
       "</style>\n",
       "<table border=\"1\" class=\"dataframe\">\n",
       "  <thead>\n",
       "    <tr style=\"text-align: right;\">\n",
       "      <th></th>\n",
       "      <th>NomVille</th>\n",
       "      <th>MAJ</th>\n",
       "      <th>Code Postal</th>\n",
       "      <th>Code INSEE</th>\n",
       "      <th>Code Région</th>\n",
       "      <th>Latitude</th>\n",
       "      <th>Longitude</th>\n",
       "      <th>Eloignement</th>\n",
       "    </tr>\n",
       "  </thead>\n",
       "  <tbody>\n",
       "    <tr>\n",
       "      <th>0</th>\n",
       "      <td>Saint-Denis-lès-Bourg</td>\n",
       "      <td>SAINT DENIS LES BOURG</td>\n",
       "      <td>1000</td>\n",
       "      <td>1344</td>\n",
       "      <td>82</td>\n",
       "      <td>46.200000</td>\n",
       "      <td>5.200000</td>\n",
       "      <td>1</td>\n",
       "    </tr>\n",
       "    <tr>\n",
       "      <th>1</th>\n",
       "      <td>Bourg-en-Bresse</td>\n",
       "      <td>BOURG EN BRESSE</td>\n",
       "      <td>1000</td>\n",
       "      <td>1053</td>\n",
       "      <td>82</td>\n",
       "      <td>46.200000</td>\n",
       "      <td>5.216667</td>\n",
       "      <td>1</td>\n",
       "    </tr>\n",
       "    <tr>\n",
       "      <th>2</th>\n",
       "      <td>Lurcy</td>\n",
       "      <td>LURCY</td>\n",
       "      <td>1090</td>\n",
       "      <td>1225</td>\n",
       "      <td>82</td>\n",
       "      <td>46.066667</td>\n",
       "      <td>4.766667</td>\n",
       "      <td>1.97</td>\n",
       "    </tr>\n",
       "    <tr>\n",
       "      <th>3</th>\n",
       "      <td>Montmerle-sur-Saône</td>\n",
       "      <td>MONTMERLE SUR SAONE</td>\n",
       "      <td>1090</td>\n",
       "      <td>1263</td>\n",
       "      <td>82</td>\n",
       "      <td>46.083333</td>\n",
       "      <td>4.766667</td>\n",
       "      <td>1.97</td>\n",
       "    </tr>\n",
       "    <tr>\n",
       "      <th>4</th>\n",
       "      <td>Genouilleux</td>\n",
       "      <td>GENOUILLEUX</td>\n",
       "      <td>1090</td>\n",
       "      <td>1169</td>\n",
       "      <td>82</td>\n",
       "      <td>46.116667</td>\n",
       "      <td>4.783333</td>\n",
       "      <td>1.91</td>\n",
       "    </tr>\n",
       "  </tbody>\n",
       "</table>\n",
       "</div>"
      ],
      "text/plain": [
       "                NomVille                 MAJ      Code Postal    Code INSEE   \\\n",
       "0  Saint-Denis-lès-Bourg  SAINT DENIS LES BOURG           1000          1344   \n",
       "1        Bourg-en-Bresse       BOURG EN BRESSE            1000          1053   \n",
       "2                  Lurcy               LURCY              1090          1225   \n",
       "3    Montmerle-sur-Saône   MONTMERLE SUR SAONE            1090          1263   \n",
       "4            Genouilleux         GENOUILLEUX              1090          1169   \n",
       "\n",
       "   Code Région   Latitude    Longitude   Eloignement   \n",
       "0           82   46.200000     5.200000             1  \n",
       "1           82   46.200000     5.216667             1  \n",
       "2           82   46.066667     4.766667          1.97  \n",
       "3           82   46.083333     4.766667          1.97  \n",
       "4           82   46.116667     4.783333          1.91  "
      ]
     },
     "execution_count": 42,
     "metadata": {},
     "output_type": "execute_result"
    }
   ],
   "source": [
    "frame_villes_france.head()"
   ]
  },
  {
   "cell_type": "markdown",
   "metadata": {
    "slideshow": {
     "slide_type": "subslide"
    }
   },
   "source": [
    "# Importer des données SQL\n",
    "\n",
    "Pandas possède une fonction `read_sql()` qui permet d’importer directement des bases de données ou des queries dans des DataFrame\n",
    "\n",
    "Il faut tout de même un connecteur pour accéder aux bases de données\n",
    "\n",
    "Pour mettre en place ce connecteur, on utlise le package SQLAlchemy.\n",
    "\n",
    "Suivant le type de base de données, on utilisera différents codes mais la structure du code est toujours la même"
   ]
  },
  {
   "cell_type": "code",
   "execution_count": 43,
   "metadata": {
    "slideshow": {
     "slide_type": "subslide"
    }
   },
   "outputs": [],
   "source": [
    "# on importe l'outil de connexion\n",
    "from sqlalchemy import create_engine"
   ]
  },
  {
   "cell_type": "markdown",
   "metadata": {
    "slideshow": {
     "slide_type": "fragment"
    }
   },
   "source": [
    "On crée une connexion\n",
    "```python\n",
    "connexion=create_engine(\"sqlite:///(...).sqlite\")\n",
    "```"
   ]
  },
  {
   "cell_type": "markdown",
   "metadata": {
    "slideshow": {
     "slide_type": "fragment"
    }
   },
   "source": [
    "On utlise une des fonctions de Pandas pour charger les données\n",
    "```python\n",
    "requete=\"\"\"select ... from ...\"\"\"\n",
    "frame_sql=pd.read_sql_query(requete,connexion)\n",
    "```"
   ]
  },
  {
   "cell_type": "markdown",
   "metadata": {
    "slideshow": {
     "slide_type": "subslide"
    }
   },
   "source": [
    "**Exercices :**\n",
    "    \n",
    "Importez la base de données SQLite salaries et récupérez la table Salaries dans un DataFrame "
   ]
  },
  {
   "cell_type": "code",
   "execution_count": 44,
   "metadata": {},
   "outputs": [],
   "source": [
    "con = create_engine(\"sqlite:///./data/salaries.sqlite\")"
   ]
  },
  {
   "cell_type": "code",
   "execution_count": 45,
   "metadata": {},
   "outputs": [
    {
     "data": {
      "text/plain": [
       "['Salaries', 'job_stat', 'moy_job', 'users']"
      ]
     },
     "execution_count": 45,
     "metadata": {},
     "output_type": "execute_result"
    }
   ],
   "source": [
    "con.table_names()"
   ]
  },
  {
   "cell_type": "code",
   "execution_count": 46,
   "metadata": {},
   "outputs": [],
   "source": [
    "frame_salaries = pd.read_sql_query(\"select * from Salaries\",con)"
   ]
  },
  {
   "cell_type": "code",
   "execution_count": 47,
   "metadata": {},
   "outputs": [
    {
     "data": {
      "text/plain": [
       "Transit Operator                                      7036\n",
       "Special Nurse                                         4389\n",
       "Registered Nurse                                      3736\n",
       "Public Svc Aide-Public Works                          2518\n",
       "Police Officer 3                                      2421\n",
       "Custodian                                             2418\n",
       "TRANSIT OPERATOR                                      2388\n",
       "Firefighter                                           2359\n",
       "Recreation Leader                                     1971\n",
       "Patient Care Assistant                                1945\n",
       "Deputy Sheriff                                        1933\n",
       "Police Officer                                        1476\n",
       "SPECIAL NURSE                                         1402\n",
       "Public Service Trainee                                1328\n",
       "REGISTERED NURSE                                      1219\n",
       "Police Officer 2                                      1141\n",
       "Attorney (Civil/Criminal)                             1126\n",
       "Porter                                                1095\n",
       "Sergeant 3                                            1047\n",
       "General Laborer                                       1033\n",
       "EMT/Paramedic/Firefighter                              918\n",
       "Gardener                                               894\n",
       "Parking Control Officer                                868\n",
       "Senior Clerk                                           840\n",
       "Library Page                                           799\n",
       "CUSTODIAN                                              796\n",
       "FIREFIGHTER                                            794\n",
       "POLICE OFFICER III                                     779\n",
       "Clerk                                                  764\n",
       "Eligibility Worker                                     760\n",
       "                                                      ... \n",
       "PRINCIPAL INVESTIGATOR, TAX COLLECTOR                    1\n",
       "CHIEF TELEPHONE OPERATOR                                 1\n",
       "LIEUTENANT I, (POLICE DEPARTMENT)                        1\n",
       "ELECTROENCEPHALOGRAPH TECHNICIAN I                       1\n",
       "EMPLOYEE ASSISTANCE COUNSELOR                            1\n",
       "PAINTER SUPERVISOR II                                    1\n",
       "Forensic Toxicologist Supervis                           1\n",
       "TRAFFIC SIGN MANAGER                                     1\n",
       "LEGISLATIVE ASSISTANT, CITY ATTORNEY'S OFFICE            1\n",
       "METALSMITH                                               1\n",
       "COURT EXECUTIVE OFFICER                                  1\n",
       "DISABILITY ACCESS COORDINATOR                            1\n",
       "Marina Associate Manager                                 1\n",
       "EXECUTIVE SECRETARY TO THE CONTROLLER                    1\n",
       "ASSISTANT COURT REPORTER COORDINATOR                     1\n",
       "DIRECTOR, INFORMATION TECHNOLOGY GROUP                   1\n",
       "SENIOR SUPERVISING PROBATION OFFICER, JUVENILE POU       1\n",
       "Lieutenant (Police Department)                           1\n",
       "CITY PLANNING GRAPHICS SUPERVISOR                        1\n",
       "SECRETARY, COMMISSION ON THE ENVIRONMENT                 1\n",
       "CARPENTER SUPERVISOR II                                  1\n",
       "SPECIAL ASSISTANT XIV                                    1\n",
       "MANAGER, UNIFIED FAMILY COURT SERVICES                   1\n",
       "PUBLIC DEFENDER                                          1\n",
       "SECRETARY, HUMAN SERVICES COMMISSION                     1\n",
       "MEDIA PRODUCTION SUPERVISOR                              1\n",
       "LEGISLATIVE CALENDAR CLERK                               1\n",
       "Senior Maintenance Controller                            1\n",
       "MARKET RESEARCH SPECIALISTS, PORT                        1\n",
       "ELECTRIC MOTOR REPAIR SUPERVISOR I                       1\n",
       "Name: JobTitle, Length: 2159, dtype: int64"
      ]
     },
     "execution_count": 47,
     "metadata": {},
     "output_type": "execute_result"
    }
   ],
   "source": [
    "frame_salaries[\"JobTitle\"].value_counts()"
   ]
  },
  {
   "cell_type": "markdown",
   "metadata": {
    "slideshow": {
     "slide_type": "slide"
    }
   },
   "source": [
    "# Les tris avec Pandas \n",
    "\n",
    "Pour effectuer des tris, on utilise :\n",
    "- `.sort_index()` pour le tri des index\n",
    "- `.sort_values()` pour le tri des données\n",
    "- `.rank()` affiche le rang des observations\n",
    "\n",
    "Il peut y avoir plusieurs tris dans la même opération. Dans ce cas, on utilise des listes de colonnes :\n",
    "```python\n",
    "frame.sort_values([\"col_1\",\"col_2\"])\n",
    "```"
   ]
  },
  {
   "cell_type": "markdown",
   "metadata": {
    "slideshow": {
     "slide_type": "subslide"
    }
   },
   "source": [
    "**Exercice :** \n",
    "    \n",
    "Triez les données sur les salaires en se basant sur le BasePay et le JobTitle"
   ]
  },
  {
   "cell_type": "code",
   "execution_count": 48,
   "metadata": {},
   "outputs": [],
   "source": [
    "def nettoyage(frame):\n",
    "    \"\"\" Cette fonction permet de nettoyer la base Salaries en enlevant les Not Provided\"\"\"\n",
    "    for col in frame.columns:\n",
    "        frame[col]=pd.to_numeric(frame[col].replace(\"Not Provided\", np.nan),errors = \"ignore\")\n",
    "    return frame"
   ]
  },
  {
   "cell_type": "code",
   "execution_count": 49,
   "metadata": {},
   "outputs": [],
   "source": [
    "frame_propre_salaries = nettoyage(frame_salaries)"
   ]
  },
  {
   "cell_type": "code",
   "execution_count": 50,
   "metadata": {},
   "outputs": [
    {
     "name": "stdout",
     "output_type": "stream",
     "text": [
      "<class 'pandas.core.frame.DataFrame'>\n",
      "RangeIndex: 148654 entries, 0 to 148653\n",
      "Data columns (total 13 columns):\n",
      "Id                  148654 non-null int64\n",
      "EmployeeName        148652 non-null object\n",
      "JobTitle            148654 non-null object\n",
      "BasePay             148045 non-null float64\n",
      "OvertimePay         148650 non-null float64\n",
      "OtherPay            148650 non-null float64\n",
      "Benefits            112491 non-null float64\n",
      "TotalPay            148654 non-null float64\n",
      "TotalPayBenefits    148654 non-null float64\n",
      "Year                148654 non-null int64\n",
      "Notes               0 non-null float64\n",
      "Agency              148654 non-null object\n",
      "Status              148654 non-null object\n",
      "dtypes: float64(7), int64(2), object(4)\n",
      "memory usage: 14.7+ MB\n"
     ]
    }
   ],
   "source": [
    "frame_propre_salaries.info()"
   ]
  },
  {
   "cell_type": "code",
   "execution_count": 51,
   "metadata": {},
   "outputs": [],
   "source": [
    "frame_salaries[\"BasePay\"]=pd.to_numeric(frame_salaries[\"BasePay\"].replace(\"Not Provided\", np.nan))"
   ]
  },
  {
   "cell_type": "code",
   "execution_count": 52,
   "metadata": {},
   "outputs": [
    {
     "data": {
      "text/html": [
       "<div>\n",
       "<style scoped>\n",
       "    .dataframe tbody tr th:only-of-type {\n",
       "        vertical-align: middle;\n",
       "    }\n",
       "\n",
       "    .dataframe tbody tr th {\n",
       "        vertical-align: top;\n",
       "    }\n",
       "\n",
       "    .dataframe thead th {\n",
       "        text-align: right;\n",
       "    }\n",
       "</style>\n",
       "<table border=\"1\" class=\"dataframe\">\n",
       "  <thead>\n",
       "    <tr style=\"text-align: right;\">\n",
       "      <th></th>\n",
       "      <th>Id</th>\n",
       "      <th>EmployeeName</th>\n",
       "      <th>JobTitle</th>\n",
       "      <th>BasePay</th>\n",
       "      <th>OvertimePay</th>\n",
       "      <th>OtherPay</th>\n",
       "      <th>Benefits</th>\n",
       "      <th>TotalPay</th>\n",
       "      <th>TotalPayBenefits</th>\n",
       "      <th>Year</th>\n",
       "      <th>Notes</th>\n",
       "      <th>Agency</th>\n",
       "      <th>Status</th>\n",
       "    </tr>\n",
       "  </thead>\n",
       "  <tbody>\n",
       "    <tr>\n",
       "      <th>20765</th>\n",
       "      <td>20766</td>\n",
       "      <td>NAPOLEON VIRAY</td>\n",
       "      <td>ACCOUNT CLERK</td>\n",
       "      <td>60838.20</td>\n",
       "      <td>0.00</td>\n",
       "      <td>0.00</td>\n",
       "      <td>NaN</td>\n",
       "      <td>60838.20</td>\n",
       "      <td>60838.20</td>\n",
       "      <td>2011</td>\n",
       "      <td>NaN</td>\n",
       "      <td>San Francisco</td>\n",
       "      <td></td>\n",
       "    </tr>\n",
       "    <tr>\n",
       "      <th>21638</th>\n",
       "      <td>21639</td>\n",
       "      <td>SUSAN CHANG</td>\n",
       "      <td>ACCOUNT CLERK</td>\n",
       "      <td>51306.28</td>\n",
       "      <td>5406.34</td>\n",
       "      <td>1814.58</td>\n",
       "      <td>NaN</td>\n",
       "      <td>58527.20</td>\n",
       "      <td>58527.20</td>\n",
       "      <td>2011</td>\n",
       "      <td>NaN</td>\n",
       "      <td>San Francisco</td>\n",
       "      <td></td>\n",
       "    </tr>\n",
       "    <tr>\n",
       "      <th>22972</th>\n",
       "      <td>22973</td>\n",
       "      <td>OLIVIA BOUDREAUX</td>\n",
       "      <td>ACCOUNT CLERK</td>\n",
       "      <td>49778.15</td>\n",
       "      <td>3811.68</td>\n",
       "      <td>1084.76</td>\n",
       "      <td>NaN</td>\n",
       "      <td>54674.59</td>\n",
       "      <td>54674.59</td>\n",
       "      <td>2011</td>\n",
       "      <td>NaN</td>\n",
       "      <td>San Francisco</td>\n",
       "      <td></td>\n",
       "    </tr>\n",
       "    <tr>\n",
       "      <th>24573</th>\n",
       "      <td>24574</td>\n",
       "      <td>GLADYS PALACIOS</td>\n",
       "      <td>ACCOUNT CLERK</td>\n",
       "      <td>49777.92</td>\n",
       "      <td>0.00</td>\n",
       "      <td>624.00</td>\n",
       "      <td>NaN</td>\n",
       "      <td>50401.92</td>\n",
       "      <td>50401.92</td>\n",
       "      <td>2011</td>\n",
       "      <td>NaN</td>\n",
       "      <td>San Francisco</td>\n",
       "      <td></td>\n",
       "    </tr>\n",
       "    <tr>\n",
       "      <th>24574</th>\n",
       "      <td>24575</td>\n",
       "      <td>JOCELYN VERGEL DE DIOS</td>\n",
       "      <td>ACCOUNT CLERK</td>\n",
       "      <td>49777.86</td>\n",
       "      <td>0.00</td>\n",
       "      <td>624.01</td>\n",
       "      <td>NaN</td>\n",
       "      <td>50401.87</td>\n",
       "      <td>50401.87</td>\n",
       "      <td>2011</td>\n",
       "      <td>NaN</td>\n",
       "      <td>San Francisco</td>\n",
       "      <td></td>\n",
       "    </tr>\n",
       "    <tr>\n",
       "      <th>24766</th>\n",
       "      <td>24767</td>\n",
       "      <td>TSUI-HWA LEE</td>\n",
       "      <td>ACCOUNT CLERK</td>\n",
       "      <td>49777.86</td>\n",
       "      <td>0.00</td>\n",
       "      <td>0.00</td>\n",
       "      <td>NaN</td>\n",
       "      <td>49777.86</td>\n",
       "      <td>49777.86</td>\n",
       "      <td>2011</td>\n",
       "      <td>NaN</td>\n",
       "      <td>San Francisco</td>\n",
       "      <td></td>\n",
       "    </tr>\n",
       "    <tr>\n",
       "      <th>24691</th>\n",
       "      <td>24692</td>\n",
       "      <td>MARISSA KENG</td>\n",
       "      <td>ACCOUNT CLERK</td>\n",
       "      <td>49777.85</td>\n",
       "      <td>0.00</td>\n",
       "      <td>264.00</td>\n",
       "      <td>NaN</td>\n",
       "      <td>50041.85</td>\n",
       "      <td>50041.85</td>\n",
       "      <td>2011</td>\n",
       "      <td>NaN</td>\n",
       "      <td>San Francisco</td>\n",
       "      <td></td>\n",
       "    </tr>\n",
       "    <tr>\n",
       "      <th>24767</th>\n",
       "      <td>24768</td>\n",
       "      <td>OSCAR MIRON</td>\n",
       "      <td>ACCOUNT CLERK</td>\n",
       "      <td>49777.85</td>\n",
       "      <td>0.00</td>\n",
       "      <td>0.00</td>\n",
       "      <td>NaN</td>\n",
       "      <td>49777.85</td>\n",
       "      <td>49777.85</td>\n",
       "      <td>2011</td>\n",
       "      <td>NaN</td>\n",
       "      <td>San Francisco</td>\n",
       "      <td></td>\n",
       "    </tr>\n",
       "    <tr>\n",
       "      <th>24758</th>\n",
       "      <td>24759</td>\n",
       "      <td>HELENA NG</td>\n",
       "      <td>ACCOUNT CLERK</td>\n",
       "      <td>49777.84</td>\n",
       "      <td>34.91</td>\n",
       "      <td>0.00</td>\n",
       "      <td>NaN</td>\n",
       "      <td>49812.75</td>\n",
       "      <td>49812.75</td>\n",
       "      <td>2011</td>\n",
       "      <td>NaN</td>\n",
       "      <td>San Francisco</td>\n",
       "      <td></td>\n",
       "    </tr>\n",
       "    <tr>\n",
       "      <th>24674</th>\n",
       "      <td>24675</td>\n",
       "      <td>ROBERTO LIWANAG</td>\n",
       "      <td>ACCOUNT CLERK</td>\n",
       "      <td>49777.83</td>\n",
       "      <td>325.29</td>\n",
       "      <td>0.00</td>\n",
       "      <td>NaN</td>\n",
       "      <td>50103.12</td>\n",
       "      <td>50103.12</td>\n",
       "      <td>2011</td>\n",
       "      <td>NaN</td>\n",
       "      <td>San Francisco</td>\n",
       "      <td></td>\n",
       "    </tr>\n",
       "    <tr>\n",
       "      <th>24769</th>\n",
       "      <td>24770</td>\n",
       "      <td>WILMA ESPINOSA</td>\n",
       "      <td>ACCOUNT CLERK</td>\n",
       "      <td>49777.83</td>\n",
       "      <td>0.00</td>\n",
       "      <td>0.00</td>\n",
       "      <td>NaN</td>\n",
       "      <td>49777.83</td>\n",
       "      <td>49777.83</td>\n",
       "      <td>2011</td>\n",
       "      <td>NaN</td>\n",
       "      <td>San Francisco</td>\n",
       "      <td></td>\n",
       "    </tr>\n",
       "    <tr>\n",
       "      <th>24770</th>\n",
       "      <td>24771</td>\n",
       "      <td>SHAW YU SHIH</td>\n",
       "      <td>ACCOUNT CLERK</td>\n",
       "      <td>49777.83</td>\n",
       "      <td>0.00</td>\n",
       "      <td>0.00</td>\n",
       "      <td>NaN</td>\n",
       "      <td>49777.83</td>\n",
       "      <td>49777.83</td>\n",
       "      <td>2011</td>\n",
       "      <td>NaN</td>\n",
       "      <td>San Francisco</td>\n",
       "      <td></td>\n",
       "    </tr>\n",
       "    <tr>\n",
       "      <th>24374</th>\n",
       "      <td>24375</td>\n",
       "      <td>ELAINE QUAN</td>\n",
       "      <td>ACCOUNT CLERK</td>\n",
       "      <td>49777.82</td>\n",
       "      <td>0.00</td>\n",
       "      <td>1285.50</td>\n",
       "      <td>NaN</td>\n",
       "      <td>51063.32</td>\n",
       "      <td>51063.32</td>\n",
       "      <td>2011</td>\n",
       "      <td>NaN</td>\n",
       "      <td>San Francisco</td>\n",
       "      <td></td>\n",
       "    </tr>\n",
       "    <tr>\n",
       "      <th>24771</th>\n",
       "      <td>24772</td>\n",
       "      <td>STEPHANIE CHANG</td>\n",
       "      <td>ACCOUNT CLERK</td>\n",
       "      <td>49777.82</td>\n",
       "      <td>0.00</td>\n",
       "      <td>0.00</td>\n",
       "      <td>NaN</td>\n",
       "      <td>49777.82</td>\n",
       "      <td>49777.82</td>\n",
       "      <td>2011</td>\n",
       "      <td>NaN</td>\n",
       "      <td>San Francisco</td>\n",
       "      <td></td>\n",
       "    </tr>\n",
       "    <tr>\n",
       "      <th>24772</th>\n",
       "      <td>24773</td>\n",
       "      <td>MONICA NG</td>\n",
       "      <td>ACCOUNT CLERK</td>\n",
       "      <td>49777.82</td>\n",
       "      <td>0.00</td>\n",
       "      <td>0.00</td>\n",
       "      <td>NaN</td>\n",
       "      <td>49777.82</td>\n",
       "      <td>49777.82</td>\n",
       "      <td>2011</td>\n",
       "      <td>NaN</td>\n",
       "      <td>San Francisco</td>\n",
       "      <td></td>\n",
       "    </tr>\n",
       "    <tr>\n",
       "      <th>24773</th>\n",
       "      <td>24774</td>\n",
       "      <td>LORRAINE WONG</td>\n",
       "      <td>ACCOUNT CLERK</td>\n",
       "      <td>49777.82</td>\n",
       "      <td>0.00</td>\n",
       "      <td>0.00</td>\n",
       "      <td>NaN</td>\n",
       "      <td>49777.82</td>\n",
       "      <td>49777.82</td>\n",
       "      <td>2011</td>\n",
       "      <td>NaN</td>\n",
       "      <td>San Francisco</td>\n",
       "      <td></td>\n",
       "    </tr>\n",
       "    <tr>\n",
       "      <th>20867</th>\n",
       "      <td>20868</td>\n",
       "      <td>BERNADETTE RAMOS</td>\n",
       "      <td>ACCOUNT CLERK</td>\n",
       "      <td>49777.81</td>\n",
       "      <td>10753.06</td>\n",
       "      <td>0.00</td>\n",
       "      <td>NaN</td>\n",
       "      <td>60530.87</td>\n",
       "      <td>60530.87</td>\n",
       "      <td>2011</td>\n",
       "      <td>NaN</td>\n",
       "      <td>San Francisco</td>\n",
       "      <td></td>\n",
       "    </tr>\n",
       "    <tr>\n",
       "      <th>24456</th>\n",
       "      <td>24457</td>\n",
       "      <td>MARINE MAK</td>\n",
       "      <td>ACCOUNT CLERK</td>\n",
       "      <td>49777.81</td>\n",
       "      <td>0.00</td>\n",
       "      <td>1040.00</td>\n",
       "      <td>NaN</td>\n",
       "      <td>50817.81</td>\n",
       "      <td>50817.81</td>\n",
       "      <td>2011</td>\n",
       "      <td>NaN</td>\n",
       "      <td>San Francisco</td>\n",
       "      <td></td>\n",
       "    </tr>\n",
       "    <tr>\n",
       "      <th>24578</th>\n",
       "      <td>24579</td>\n",
       "      <td>PRAVIN DESAI</td>\n",
       "      <td>ACCOUNT CLERK</td>\n",
       "      <td>49777.81</td>\n",
       "      <td>0.00</td>\n",
       "      <td>624.00</td>\n",
       "      <td>NaN</td>\n",
       "      <td>50401.81</td>\n",
       "      <td>50401.81</td>\n",
       "      <td>2011</td>\n",
       "      <td>NaN</td>\n",
       "      <td>San Francisco</td>\n",
       "      <td></td>\n",
       "    </tr>\n",
       "    <tr>\n",
       "      <th>24579</th>\n",
       "      <td>24580</td>\n",
       "      <td>AMADO LUMAS JR</td>\n",
       "      <td>ACCOUNT CLERK</td>\n",
       "      <td>49777.81</td>\n",
       "      <td>0.00</td>\n",
       "      <td>624.00</td>\n",
       "      <td>NaN</td>\n",
       "      <td>50401.81</td>\n",
       "      <td>50401.81</td>\n",
       "      <td>2011</td>\n",
       "      <td>NaN</td>\n",
       "      <td>San Francisco</td>\n",
       "      <td></td>\n",
       "    </tr>\n",
       "    <tr>\n",
       "      <th>24581</th>\n",
       "      <td>24582</td>\n",
       "      <td>HARICK BARRETT</td>\n",
       "      <td>ACCOUNT CLERK</td>\n",
       "      <td>49777.81</td>\n",
       "      <td>0.00</td>\n",
       "      <td>624.00</td>\n",
       "      <td>NaN</td>\n",
       "      <td>50401.81</td>\n",
       "      <td>50401.81</td>\n",
       "      <td>2011</td>\n",
       "      <td>NaN</td>\n",
       "      <td>San Francisco</td>\n",
       "      <td></td>\n",
       "    </tr>\n",
       "    <tr>\n",
       "      <th>24775</th>\n",
       "      <td>24776</td>\n",
       "      <td>DINH TRAN</td>\n",
       "      <td>ACCOUNT CLERK</td>\n",
       "      <td>49777.81</td>\n",
       "      <td>0.00</td>\n",
       "      <td>0.00</td>\n",
       "      <td>NaN</td>\n",
       "      <td>49777.81</td>\n",
       "      <td>49777.81</td>\n",
       "      <td>2011</td>\n",
       "      <td>NaN</td>\n",
       "      <td>San Francisco</td>\n",
       "      <td></td>\n",
       "    </tr>\n",
       "    <tr>\n",
       "      <th>24776</th>\n",
       "      <td>24777</td>\n",
       "      <td>KAMILLE MASON</td>\n",
       "      <td>ACCOUNT CLERK</td>\n",
       "      <td>49777.81</td>\n",
       "      <td>0.00</td>\n",
       "      <td>0.00</td>\n",
       "      <td>NaN</td>\n",
       "      <td>49777.81</td>\n",
       "      <td>49777.81</td>\n",
       "      <td>2011</td>\n",
       "      <td>NaN</td>\n",
       "      <td>San Francisco</td>\n",
       "      <td></td>\n",
       "    </tr>\n",
       "    <tr>\n",
       "      <th>24132</th>\n",
       "      <td>24133</td>\n",
       "      <td>LI-XIN CAI</td>\n",
       "      <td>ACCOUNT CLERK</td>\n",
       "      <td>49777.80</td>\n",
       "      <td>1390.45</td>\n",
       "      <td>624.00</td>\n",
       "      <td>NaN</td>\n",
       "      <td>51792.25</td>\n",
       "      <td>51792.25</td>\n",
       "      <td>2011</td>\n",
       "      <td>NaN</td>\n",
       "      <td>San Francisco</td>\n",
       "      <td></td>\n",
       "    </tr>\n",
       "    <tr>\n",
       "      <th>24264</th>\n",
       "      <td>24265</td>\n",
       "      <td>TUONG TRUONG</td>\n",
       "      <td>ACCOUNT CLERK</td>\n",
       "      <td>49777.80</td>\n",
       "      <td>0.00</td>\n",
       "      <td>1618.00</td>\n",
       "      <td>NaN</td>\n",
       "      <td>51395.80</td>\n",
       "      <td>51395.80</td>\n",
       "      <td>2011</td>\n",
       "      <td>NaN</td>\n",
       "      <td>San Francisco</td>\n",
       "      <td></td>\n",
       "    </tr>\n",
       "    <tr>\n",
       "      <th>24377</th>\n",
       "      <td>24378</td>\n",
       "      <td>AUBSORN WARD</td>\n",
       "      <td>ACCOUNT CLERK</td>\n",
       "      <td>49777.80</td>\n",
       "      <td>0.00</td>\n",
       "      <td>1279.39</td>\n",
       "      <td>NaN</td>\n",
       "      <td>51057.19</td>\n",
       "      <td>51057.19</td>\n",
       "      <td>2011</td>\n",
       "      <td>NaN</td>\n",
       "      <td>San Francisco</td>\n",
       "      <td></td>\n",
       "    </tr>\n",
       "    <tr>\n",
       "      <th>24416</th>\n",
       "      <td>24417</td>\n",
       "      <td>PRISCILLA VUONG</td>\n",
       "      <td>ACCOUNT CLERK</td>\n",
       "      <td>49777.80</td>\n",
       "      <td>0.00</td>\n",
       "      <td>1160.00</td>\n",
       "      <td>NaN</td>\n",
       "      <td>50937.80</td>\n",
       "      <td>50937.80</td>\n",
       "      <td>2011</td>\n",
       "      <td>NaN</td>\n",
       "      <td>San Francisco</td>\n",
       "      <td></td>\n",
       "    </tr>\n",
       "    <tr>\n",
       "      <th>24449</th>\n",
       "      <td>24450</td>\n",
       "      <td>JOAQUIN ANDALUZ</td>\n",
       "      <td>ACCOUNT CLERK</td>\n",
       "      <td>49777.80</td>\n",
       "      <td>0.00</td>\n",
       "      <td>1064.01</td>\n",
       "      <td>NaN</td>\n",
       "      <td>50841.81</td>\n",
       "      <td>50841.81</td>\n",
       "      <td>2011</td>\n",
       "      <td>NaN</td>\n",
       "      <td>San Francisco</td>\n",
       "      <td></td>\n",
       "    </tr>\n",
       "    <tr>\n",
       "      <th>24486</th>\n",
       "      <td>24487</td>\n",
       "      <td>EUGENIO TOLENTINO</td>\n",
       "      <td>ACCOUNT CLERK</td>\n",
       "      <td>49777.80</td>\n",
       "      <td>931.98</td>\n",
       "      <td>0.00</td>\n",
       "      <td>NaN</td>\n",
       "      <td>50709.78</td>\n",
       "      <td>50709.78</td>\n",
       "      <td>2011</td>\n",
       "      <td>NaN</td>\n",
       "      <td>San Francisco</td>\n",
       "      <td></td>\n",
       "    </tr>\n",
       "    <tr>\n",
       "      <th>24577</th>\n",
       "      <td>24578</td>\n",
       "      <td>GORGONIA MARTIN</td>\n",
       "      <td>ACCOUNT CLERK</td>\n",
       "      <td>49777.80</td>\n",
       "      <td>0.00</td>\n",
       "      <td>624.03</td>\n",
       "      <td>NaN</td>\n",
       "      <td>50401.83</td>\n",
       "      <td>50401.83</td>\n",
       "      <td>2011</td>\n",
       "      <td>NaN</td>\n",
       "      <td>San Francisco</td>\n",
       "      <td></td>\n",
       "    </tr>\n",
       "    <tr>\n",
       "      <th>...</th>\n",
       "      <td>...</td>\n",
       "      <td>...</td>\n",
       "      <td>...</td>\n",
       "      <td>...</td>\n",
       "      <td>...</td>\n",
       "      <td>...</td>\n",
       "      <td>...</td>\n",
       "      <td>...</td>\n",
       "      <td>...</td>\n",
       "      <td>...</td>\n",
       "      <td>...</td>\n",
       "      <td>...</td>\n",
       "      <td>...</td>\n",
       "    </tr>\n",
       "    <tr>\n",
       "      <th>65835</th>\n",
       "      <td>65836</td>\n",
       "      <td>Jesse Laurence Saldana</td>\n",
       "      <td>X-Ray Laboratory Aide</td>\n",
       "      <td>25627.59</td>\n",
       "      <td>0.00</td>\n",
       "      <td>78.97</td>\n",
       "      <td>2178.46</td>\n",
       "      <td>25706.56</td>\n",
       "      <td>27885.02</td>\n",
       "      <td>2012</td>\n",
       "      <td>NaN</td>\n",
       "      <td>San Francisco</td>\n",
       "      <td></td>\n",
       "    </tr>\n",
       "    <tr>\n",
       "      <th>103259</th>\n",
       "      <td>103260</td>\n",
       "      <td>Kimberly  Grice</td>\n",
       "      <td>X-Ray Laboratory Aide</td>\n",
       "      <td>25376.40</td>\n",
       "      <td>0.00</td>\n",
       "      <td>0.00</td>\n",
       "      <td>253.78</td>\n",
       "      <td>25376.40</td>\n",
       "      <td>25630.18</td>\n",
       "      <td>2013</td>\n",
       "      <td>NaN</td>\n",
       "      <td>San Francisco</td>\n",
       "      <td></td>\n",
       "    </tr>\n",
       "    <tr>\n",
       "      <th>139672</th>\n",
       "      <td>139673</td>\n",
       "      <td>Katrina R Daumas</td>\n",
       "      <td>X-Ray Laboratory Aide</td>\n",
       "      <td>24706.72</td>\n",
       "      <td>2266.30</td>\n",
       "      <td>250.00</td>\n",
       "      <td>11253.98</td>\n",
       "      <td>27223.02</td>\n",
       "      <td>38477.00</td>\n",
       "      <td>2014</td>\n",
       "      <td>NaN</td>\n",
       "      <td>San Francisco</td>\n",
       "      <td>PT</td>\n",
       "    </tr>\n",
       "    <tr>\n",
       "      <th>141214</th>\n",
       "      <td>141215</td>\n",
       "      <td>Kimberly Grice</td>\n",
       "      <td>X-Ray Laboratory Aide</td>\n",
       "      <td>23916.96</td>\n",
       "      <td>0.00</td>\n",
       "      <td>0.00</td>\n",
       "      <td>239.19</td>\n",
       "      <td>23916.96</td>\n",
       "      <td>24156.15</td>\n",
       "      <td>2014</td>\n",
       "      <td>NaN</td>\n",
       "      <td>San Francisco</td>\n",
       "      <td>PT</td>\n",
       "    </tr>\n",
       "    <tr>\n",
       "      <th>66120</th>\n",
       "      <td>66121</td>\n",
       "      <td>David Kelley</td>\n",
       "      <td>X-Ray Laboratory Aide</td>\n",
       "      <td>23624.32</td>\n",
       "      <td>0.00</td>\n",
       "      <td>0.00</td>\n",
       "      <td>1830.70</td>\n",
       "      <td>23624.32</td>\n",
       "      <td>25455.02</td>\n",
       "      <td>2012</td>\n",
       "      <td>NaN</td>\n",
       "      <td>San Francisco</td>\n",
       "      <td></td>\n",
       "    </tr>\n",
       "    <tr>\n",
       "      <th>66095</th>\n",
       "      <td>66096</td>\n",
       "      <td>William Hester</td>\n",
       "      <td>X-Ray Laboratory Aide</td>\n",
       "      <td>23243.34</td>\n",
       "      <td>0.00</td>\n",
       "      <td>287.66</td>\n",
       "      <td>2112.36</td>\n",
       "      <td>23531.00</td>\n",
       "      <td>25643.36</td>\n",
       "      <td>2012</td>\n",
       "      <td>NaN</td>\n",
       "      <td>San Francisco</td>\n",
       "      <td></td>\n",
       "    </tr>\n",
       "    <tr>\n",
       "      <th>141132</th>\n",
       "      <td>141133</td>\n",
       "      <td>Brittney A Bentley</td>\n",
       "      <td>X-Ray Laboratory Aide</td>\n",
       "      <td>23059.02</td>\n",
       "      <td>0.00</td>\n",
       "      <td>1502.55</td>\n",
       "      <td>245.62</td>\n",
       "      <td>24561.57</td>\n",
       "      <td>24807.19</td>\n",
       "      <td>2014</td>\n",
       "      <td>NaN</td>\n",
       "      <td>San Francisco</td>\n",
       "      <td>PT</td>\n",
       "    </tr>\n",
       "    <tr>\n",
       "      <th>66106</th>\n",
       "      <td>66107</td>\n",
       "      <td>Qifan Shen</td>\n",
       "      <td>X-Ray Laboratory Aide</td>\n",
       "      <td>22750.08</td>\n",
       "      <td>0.00</td>\n",
       "      <td>938.05</td>\n",
       "      <td>1833.94</td>\n",
       "      <td>23688.13</td>\n",
       "      <td>25522.07</td>\n",
       "      <td>2012</td>\n",
       "      <td>NaN</td>\n",
       "      <td>San Francisco</td>\n",
       "      <td></td>\n",
       "    </tr>\n",
       "    <tr>\n",
       "      <th>66351</th>\n",
       "      <td>66352</td>\n",
       "      <td>Lester Lacey</td>\n",
       "      <td>X-Ray Laboratory Aide</td>\n",
       "      <td>21218.25</td>\n",
       "      <td>151.05</td>\n",
       "      <td>369.74</td>\n",
       "      <td>1984.09</td>\n",
       "      <td>21739.04</td>\n",
       "      <td>23723.13</td>\n",
       "      <td>2012</td>\n",
       "      <td>NaN</td>\n",
       "      <td>San Francisco</td>\n",
       "      <td></td>\n",
       "    </tr>\n",
       "    <tr>\n",
       "      <th>141658</th>\n",
       "      <td>141659</td>\n",
       "      <td>Christopher K Flores</td>\n",
       "      <td>X-Ray Laboratory Aide</td>\n",
       "      <td>20411.99</td>\n",
       "      <td>0.00</td>\n",
       "      <td>576.93</td>\n",
       "      <td>208.46</td>\n",
       "      <td>20988.92</td>\n",
       "      <td>21197.38</td>\n",
       "      <td>2014</td>\n",
       "      <td>NaN</td>\n",
       "      <td>San Francisco</td>\n",
       "      <td>PT</td>\n",
       "    </tr>\n",
       "    <tr>\n",
       "      <th>140557</th>\n",
       "      <td>140558</td>\n",
       "      <td>Zhe J Chen</td>\n",
       "      <td>X-Ray Laboratory Aide</td>\n",
       "      <td>20325.53</td>\n",
       "      <td>7671.10</td>\n",
       "      <td>1583.86</td>\n",
       "      <td>295.81</td>\n",
       "      <td>29580.49</td>\n",
       "      <td>29876.30</td>\n",
       "      <td>2014</td>\n",
       "      <td>NaN</td>\n",
       "      <td>San Francisco</td>\n",
       "      <td>PT</td>\n",
       "    </tr>\n",
       "    <tr>\n",
       "      <th>141804</th>\n",
       "      <td>141805</td>\n",
       "      <td>Eric M Bongato</td>\n",
       "      <td>X-Ray Laboratory Aide</td>\n",
       "      <td>20000.50</td>\n",
       "      <td>0.00</td>\n",
       "      <td>0.00</td>\n",
       "      <td>200.01</td>\n",
       "      <td>20000.50</td>\n",
       "      <td>20200.51</td>\n",
       "      <td>2014</td>\n",
       "      <td>NaN</td>\n",
       "      <td>San Francisco</td>\n",
       "      <td>PT</td>\n",
       "    </tr>\n",
       "    <tr>\n",
       "      <th>141976</th>\n",
       "      <td>141977</td>\n",
       "      <td>Boniface N Emelife</td>\n",
       "      <td>X-Ray Laboratory Aide</td>\n",
       "      <td>19031.51</td>\n",
       "      <td>0.00</td>\n",
       "      <td>0.00</td>\n",
       "      <td>190.32</td>\n",
       "      <td>19031.51</td>\n",
       "      <td>19221.83</td>\n",
       "      <td>2014</td>\n",
       "      <td>NaN</td>\n",
       "      <td>San Francisco</td>\n",
       "      <td>PT</td>\n",
       "    </tr>\n",
       "    <tr>\n",
       "      <th>141903</th>\n",
       "      <td>141904</td>\n",
       "      <td>Billy Ray C Pablo</td>\n",
       "      <td>X-Ray Laboratory Aide</td>\n",
       "      <td>18755.21</td>\n",
       "      <td>0.00</td>\n",
       "      <td>737.49</td>\n",
       "      <td>194.93</td>\n",
       "      <td>19492.70</td>\n",
       "      <td>19687.63</td>\n",
       "      <td>2014</td>\n",
       "      <td>NaN</td>\n",
       "      <td>San Francisco</td>\n",
       "      <td>PT</td>\n",
       "    </tr>\n",
       "    <tr>\n",
       "      <th>66991</th>\n",
       "      <td>66992</td>\n",
       "      <td>Kin Shing Lui</td>\n",
       "      <td>X-Ray Laboratory Aide</td>\n",
       "      <td>12623.29</td>\n",
       "      <td>0.00</td>\n",
       "      <td>250.00</td>\n",
       "      <td>6712.97</td>\n",
       "      <td>12873.29</td>\n",
       "      <td>19586.26</td>\n",
       "      <td>2012</td>\n",
       "      <td>NaN</td>\n",
       "      <td>San Francisco</td>\n",
       "      <td></td>\n",
       "    </tr>\n",
       "    <tr>\n",
       "      <th>143293</th>\n",
       "      <td>143294</td>\n",
       "      <td>Qifan Shen</td>\n",
       "      <td>X-Ray Laboratory Aide</td>\n",
       "      <td>12240.06</td>\n",
       "      <td>0.00</td>\n",
       "      <td>525.48</td>\n",
       "      <td>127.67</td>\n",
       "      <td>12765.54</td>\n",
       "      <td>12893.21</td>\n",
       "      <td>2014</td>\n",
       "      <td>NaN</td>\n",
       "      <td>San Francisco</td>\n",
       "      <td>PT</td>\n",
       "    </tr>\n",
       "    <tr>\n",
       "      <th>143631</th>\n",
       "      <td>143632</td>\n",
       "      <td>Patricia L Galdamez</td>\n",
       "      <td>X-Ray Laboratory Aide</td>\n",
       "      <td>11156.12</td>\n",
       "      <td>0.00</td>\n",
       "      <td>185.73</td>\n",
       "      <td>113.42</td>\n",
       "      <td>11341.85</td>\n",
       "      <td>11455.27</td>\n",
       "      <td>2014</td>\n",
       "      <td>NaN</td>\n",
       "      <td>San Francisco</td>\n",
       "      <td>PT</td>\n",
       "    </tr>\n",
       "    <tr>\n",
       "      <th>143520</th>\n",
       "      <td>143521</td>\n",
       "      <td>Karna R Thomas</td>\n",
       "      <td>X-Ray Laboratory Aide</td>\n",
       "      <td>11077.60</td>\n",
       "      <td>0.00</td>\n",
       "      <td>677.34</td>\n",
       "      <td>117.54</td>\n",
       "      <td>11754.94</td>\n",
       "      <td>11872.48</td>\n",
       "      <td>2014</td>\n",
       "      <td>NaN</td>\n",
       "      <td>San Francisco</td>\n",
       "      <td>PT</td>\n",
       "    </tr>\n",
       "    <tr>\n",
       "      <th>105721</th>\n",
       "      <td>105722</td>\n",
       "      <td>Lester T Lacey</td>\n",
       "      <td>X-Ray Laboratory Aide</td>\n",
       "      <td>10674.20</td>\n",
       "      <td>0.00</td>\n",
       "      <td>191.42</td>\n",
       "      <td>108.64</td>\n",
       "      <td>10865.62</td>\n",
       "      <td>10974.26</td>\n",
       "      <td>2013</td>\n",
       "      <td>NaN</td>\n",
       "      <td>San Francisco</td>\n",
       "      <td></td>\n",
       "    </tr>\n",
       "    <tr>\n",
       "      <th>106193</th>\n",
       "      <td>106194</td>\n",
       "      <td>Qifan  Shen</td>\n",
       "      <td>X-Ray Laboratory Aide</td>\n",
       "      <td>8893.08</td>\n",
       "      <td>0.00</td>\n",
       "      <td>321.20</td>\n",
       "      <td>92.15</td>\n",
       "      <td>9214.28</td>\n",
       "      <td>9306.43</td>\n",
       "      <td>2013</td>\n",
       "      <td>NaN</td>\n",
       "      <td>San Francisco</td>\n",
       "      <td></td>\n",
       "    </tr>\n",
       "    <tr>\n",
       "      <th>107095</th>\n",
       "      <td>107096</td>\n",
       "      <td>Boniface N Emelife</td>\n",
       "      <td>X-Ray Laboratory Aide</td>\n",
       "      <td>7451.80</td>\n",
       "      <td>0.00</td>\n",
       "      <td>4.03</td>\n",
       "      <td>74.56</td>\n",
       "      <td>7455.83</td>\n",
       "      <td>7530.39</td>\n",
       "      <td>2013</td>\n",
       "      <td>NaN</td>\n",
       "      <td>San Francisco</td>\n",
       "      <td></td>\n",
       "    </tr>\n",
       "    <tr>\n",
       "      <th>107108</th>\n",
       "      <td>107109</td>\n",
       "      <td>Christopher K Flores</td>\n",
       "      <td>X-Ray Laboratory Aide</td>\n",
       "      <td>7307.04</td>\n",
       "      <td>0.00</td>\n",
       "      <td>121.35</td>\n",
       "      <td>74.28</td>\n",
       "      <td>7428.39</td>\n",
       "      <td>7502.67</td>\n",
       "      <td>2013</td>\n",
       "      <td>NaN</td>\n",
       "      <td>San Francisco</td>\n",
       "      <td></td>\n",
       "    </tr>\n",
       "    <tr>\n",
       "      <th>107474</th>\n",
       "      <td>107475</td>\n",
       "      <td>David I Kelley</td>\n",
       "      <td>X-Ray Laboratory Aide</td>\n",
       "      <td>6268.58</td>\n",
       "      <td>0.00</td>\n",
       "      <td>30.21</td>\n",
       "      <td>62.99</td>\n",
       "      <td>6298.79</td>\n",
       "      <td>6361.78</td>\n",
       "      <td>2013</td>\n",
       "      <td>NaN</td>\n",
       "      <td>San Francisco</td>\n",
       "      <td></td>\n",
       "    </tr>\n",
       "    <tr>\n",
       "      <th>109794</th>\n",
       "      <td>109795</td>\n",
       "      <td>William G Hester</td>\n",
       "      <td>X-Ray Laboratory Aide</td>\n",
       "      <td>1007.00</td>\n",
       "      <td>0.00</td>\n",
       "      <td>0.00</td>\n",
       "      <td>10.07</td>\n",
       "      <td>1007.00</td>\n",
       "      <td>1017.07</td>\n",
       "      <td>2013</td>\n",
       "      <td>NaN</td>\n",
       "      <td>San Francisco</td>\n",
       "      <td></td>\n",
       "    </tr>\n",
       "    <tr>\n",
       "      <th>23391</th>\n",
       "      <td>23392</td>\n",
       "      <td>MARIO YEDIDIA</td>\n",
       "      <td>YOUTH COMMISSION ADVISOR, BOARD OF SUPERVISORS</td>\n",
       "      <td>52609.91</td>\n",
       "      <td>0.00</td>\n",
       "      <td>1022.96</td>\n",
       "      <td>NaN</td>\n",
       "      <td>53632.87</td>\n",
       "      <td>53632.87</td>\n",
       "      <td>2011</td>\n",
       "      <td>NaN</td>\n",
       "      <td>San Francisco</td>\n",
       "      <td></td>\n",
       "    </tr>\n",
       "    <tr>\n",
       "      <th>58842</th>\n",
       "      <td>58843</td>\n",
       "      <td>Mario Yedidia</td>\n",
       "      <td>Youth Comm Advisor</td>\n",
       "      <td>57544.73</td>\n",
       "      <td>0.00</td>\n",
       "      <td>0.00</td>\n",
       "      <td>28229.66</td>\n",
       "      <td>57544.73</td>\n",
       "      <td>85774.39</td>\n",
       "      <td>2012</td>\n",
       "      <td>NaN</td>\n",
       "      <td>San Francisco</td>\n",
       "      <td></td>\n",
       "    </tr>\n",
       "    <tr>\n",
       "      <th>98074</th>\n",
       "      <td>98075</td>\n",
       "      <td>Phimy  Truong</td>\n",
       "      <td>Youth Comm Advisor</td>\n",
       "      <td>52433.88</td>\n",
       "      <td>0.00</td>\n",
       "      <td>0.00</td>\n",
       "      <td>25297.50</td>\n",
       "      <td>52433.88</td>\n",
       "      <td>77731.38</td>\n",
       "      <td>2013</td>\n",
       "      <td>NaN</td>\n",
       "      <td>San Francisco</td>\n",
       "      <td></td>\n",
       "    </tr>\n",
       "    <tr>\n",
       "      <th>138458</th>\n",
       "      <td>138459</td>\n",
       "      <td>Phimy Truong</td>\n",
       "      <td>Youth Comm Advisor</td>\n",
       "      <td>32417.42</td>\n",
       "      <td>0.00</td>\n",
       "      <td>4048.49</td>\n",
       "      <td>15545.28</td>\n",
       "      <td>36465.91</td>\n",
       "      <td>52011.19</td>\n",
       "      <td>2014</td>\n",
       "      <td>NaN</td>\n",
       "      <td>San Francisco</td>\n",
       "      <td>PT</td>\n",
       "    </tr>\n",
       "    <tr>\n",
       "      <th>103333</th>\n",
       "      <td>103334</td>\n",
       "      <td>Mario R Yedidia</td>\n",
       "      <td>Youth Comm Advisor</td>\n",
       "      <td>13915.80</td>\n",
       "      <td>0.00</td>\n",
       "      <td>5296.91</td>\n",
       "      <td>5744.53</td>\n",
       "      <td>19212.71</td>\n",
       "      <td>24957.24</td>\n",
       "      <td>2013</td>\n",
       "      <td>NaN</td>\n",
       "      <td>San Francisco</td>\n",
       "      <td></td>\n",
       "    </tr>\n",
       "    <tr>\n",
       "      <th>18778</th>\n",
       "      <td>18779</td>\n",
       "      <td>MYRON SULAK</td>\n",
       "      <td>ZOO CURATOR</td>\n",
       "      <td>43148.00</td>\n",
       "      <td>0.00</td>\n",
       "      <td>23538.56</td>\n",
       "      <td>NaN</td>\n",
       "      <td>66686.56</td>\n",
       "      <td>66686.56</td>\n",
       "      <td>2011</td>\n",
       "      <td>NaN</td>\n",
       "      <td>San Francisco</td>\n",
       "      <td></td>\n",
       "    </tr>\n",
       "  </tbody>\n",
       "</table>\n",
       "<p>148654 rows × 13 columns</p>\n",
       "</div>"
      ],
      "text/plain": [
       "            Id            EmployeeName  \\\n",
       "20765    20766          NAPOLEON VIRAY   \n",
       "21638    21639             SUSAN CHANG   \n",
       "22972    22973        OLIVIA BOUDREAUX   \n",
       "24573    24574         GLADYS PALACIOS   \n",
       "24574    24575  JOCELYN VERGEL DE DIOS   \n",
       "24766    24767            TSUI-HWA LEE   \n",
       "24691    24692            MARISSA KENG   \n",
       "24767    24768             OSCAR MIRON   \n",
       "24758    24759               HELENA NG   \n",
       "24674    24675         ROBERTO LIWANAG   \n",
       "24769    24770          WILMA ESPINOSA   \n",
       "24770    24771            SHAW YU SHIH   \n",
       "24374    24375             ELAINE QUAN   \n",
       "24771    24772         STEPHANIE CHANG   \n",
       "24772    24773               MONICA NG   \n",
       "24773    24774           LORRAINE WONG   \n",
       "20867    20868        BERNADETTE RAMOS   \n",
       "24456    24457              MARINE MAK   \n",
       "24578    24579            PRAVIN DESAI   \n",
       "24579    24580          AMADO LUMAS JR   \n",
       "24581    24582          HARICK BARRETT   \n",
       "24775    24776               DINH TRAN   \n",
       "24776    24777           KAMILLE MASON   \n",
       "24132    24133              LI-XIN CAI   \n",
       "24264    24265            TUONG TRUONG   \n",
       "24377    24378            AUBSORN WARD   \n",
       "24416    24417         PRISCILLA VUONG   \n",
       "24449    24450         JOAQUIN ANDALUZ   \n",
       "24486    24487       EUGENIO TOLENTINO   \n",
       "24577    24578         GORGONIA MARTIN   \n",
       "...        ...                     ...   \n",
       "65835    65836  Jesse Laurence Saldana   \n",
       "103259  103260         Kimberly  Grice   \n",
       "139672  139673        Katrina R Daumas   \n",
       "141214  141215          Kimberly Grice   \n",
       "66120    66121            David Kelley   \n",
       "66095    66096          William Hester   \n",
       "141132  141133      Brittney A Bentley   \n",
       "66106    66107              Qifan Shen   \n",
       "66351    66352            Lester Lacey   \n",
       "141658  141659    Christopher K Flores   \n",
       "140557  140558              Zhe J Chen   \n",
       "141804  141805          Eric M Bongato   \n",
       "141976  141977      Boniface N Emelife   \n",
       "141903  141904       Billy Ray C Pablo   \n",
       "66991    66992           Kin Shing Lui   \n",
       "143293  143294              Qifan Shen   \n",
       "143631  143632     Patricia L Galdamez   \n",
       "143520  143521          Karna R Thomas   \n",
       "105721  105722          Lester T Lacey   \n",
       "106193  106194             Qifan  Shen   \n",
       "107095  107096      Boniface N Emelife   \n",
       "107108  107109    Christopher K Flores   \n",
       "107474  107475          David I Kelley   \n",
       "109794  109795        William G Hester   \n",
       "23391    23392           MARIO YEDIDIA   \n",
       "58842    58843           Mario Yedidia   \n",
       "98074    98075           Phimy  Truong   \n",
       "138458  138459            Phimy Truong   \n",
       "103333  103334         Mario R Yedidia   \n",
       "18778    18779             MYRON SULAK   \n",
       "\n",
       "                                              JobTitle   BasePay  OvertimePay  \\\n",
       "20765                                    ACCOUNT CLERK  60838.20         0.00   \n",
       "21638                                    ACCOUNT CLERK  51306.28      5406.34   \n",
       "22972                                    ACCOUNT CLERK  49778.15      3811.68   \n",
       "24573                                    ACCOUNT CLERK  49777.92         0.00   \n",
       "24574                                    ACCOUNT CLERK  49777.86         0.00   \n",
       "24766                                    ACCOUNT CLERK  49777.86         0.00   \n",
       "24691                                    ACCOUNT CLERK  49777.85         0.00   \n",
       "24767                                    ACCOUNT CLERK  49777.85         0.00   \n",
       "24758                                    ACCOUNT CLERK  49777.84        34.91   \n",
       "24674                                    ACCOUNT CLERK  49777.83       325.29   \n",
       "24769                                    ACCOUNT CLERK  49777.83         0.00   \n",
       "24770                                    ACCOUNT CLERK  49777.83         0.00   \n",
       "24374                                    ACCOUNT CLERK  49777.82         0.00   \n",
       "24771                                    ACCOUNT CLERK  49777.82         0.00   \n",
       "24772                                    ACCOUNT CLERK  49777.82         0.00   \n",
       "24773                                    ACCOUNT CLERK  49777.82         0.00   \n",
       "20867                                    ACCOUNT CLERK  49777.81     10753.06   \n",
       "24456                                    ACCOUNT CLERK  49777.81         0.00   \n",
       "24578                                    ACCOUNT CLERK  49777.81         0.00   \n",
       "24579                                    ACCOUNT CLERK  49777.81         0.00   \n",
       "24581                                    ACCOUNT CLERK  49777.81         0.00   \n",
       "24775                                    ACCOUNT CLERK  49777.81         0.00   \n",
       "24776                                    ACCOUNT CLERK  49777.81         0.00   \n",
       "24132                                    ACCOUNT CLERK  49777.80      1390.45   \n",
       "24264                                    ACCOUNT CLERK  49777.80         0.00   \n",
       "24377                                    ACCOUNT CLERK  49777.80         0.00   \n",
       "24416                                    ACCOUNT CLERK  49777.80         0.00   \n",
       "24449                                    ACCOUNT CLERK  49777.80         0.00   \n",
       "24486                                    ACCOUNT CLERK  49777.80       931.98   \n",
       "24577                                    ACCOUNT CLERK  49777.80         0.00   \n",
       "...                                                ...       ...          ...   \n",
       "65835                            X-Ray Laboratory Aide  25627.59         0.00   \n",
       "103259                           X-Ray Laboratory Aide  25376.40         0.00   \n",
       "139672                           X-Ray Laboratory Aide  24706.72      2266.30   \n",
       "141214                           X-Ray Laboratory Aide  23916.96         0.00   \n",
       "66120                            X-Ray Laboratory Aide  23624.32         0.00   \n",
       "66095                            X-Ray Laboratory Aide  23243.34         0.00   \n",
       "141132                           X-Ray Laboratory Aide  23059.02         0.00   \n",
       "66106                            X-Ray Laboratory Aide  22750.08         0.00   \n",
       "66351                            X-Ray Laboratory Aide  21218.25       151.05   \n",
       "141658                           X-Ray Laboratory Aide  20411.99         0.00   \n",
       "140557                           X-Ray Laboratory Aide  20325.53      7671.10   \n",
       "141804                           X-Ray Laboratory Aide  20000.50         0.00   \n",
       "141976                           X-Ray Laboratory Aide  19031.51         0.00   \n",
       "141903                           X-Ray Laboratory Aide  18755.21         0.00   \n",
       "66991                            X-Ray Laboratory Aide  12623.29         0.00   \n",
       "143293                           X-Ray Laboratory Aide  12240.06         0.00   \n",
       "143631                           X-Ray Laboratory Aide  11156.12         0.00   \n",
       "143520                           X-Ray Laboratory Aide  11077.60         0.00   \n",
       "105721                           X-Ray Laboratory Aide  10674.20         0.00   \n",
       "106193                           X-Ray Laboratory Aide   8893.08         0.00   \n",
       "107095                           X-Ray Laboratory Aide   7451.80         0.00   \n",
       "107108                           X-Ray Laboratory Aide   7307.04         0.00   \n",
       "107474                           X-Ray Laboratory Aide   6268.58         0.00   \n",
       "109794                           X-Ray Laboratory Aide   1007.00         0.00   \n",
       "23391   YOUTH COMMISSION ADVISOR, BOARD OF SUPERVISORS  52609.91         0.00   \n",
       "58842                               Youth Comm Advisor  57544.73         0.00   \n",
       "98074                               Youth Comm Advisor  52433.88         0.00   \n",
       "138458                              Youth Comm Advisor  32417.42         0.00   \n",
       "103333                              Youth Comm Advisor  13915.80         0.00   \n",
       "18778                                      ZOO CURATOR  43148.00         0.00   \n",
       "\n",
       "        OtherPay  Benefits  TotalPay  TotalPayBenefits  Year  Notes  \\\n",
       "20765       0.00       NaN  60838.20          60838.20  2011    NaN   \n",
       "21638    1814.58       NaN  58527.20          58527.20  2011    NaN   \n",
       "22972    1084.76       NaN  54674.59          54674.59  2011    NaN   \n",
       "24573     624.00       NaN  50401.92          50401.92  2011    NaN   \n",
       "24574     624.01       NaN  50401.87          50401.87  2011    NaN   \n",
       "24766       0.00       NaN  49777.86          49777.86  2011    NaN   \n",
       "24691     264.00       NaN  50041.85          50041.85  2011    NaN   \n",
       "24767       0.00       NaN  49777.85          49777.85  2011    NaN   \n",
       "24758       0.00       NaN  49812.75          49812.75  2011    NaN   \n",
       "24674       0.00       NaN  50103.12          50103.12  2011    NaN   \n",
       "24769       0.00       NaN  49777.83          49777.83  2011    NaN   \n",
       "24770       0.00       NaN  49777.83          49777.83  2011    NaN   \n",
       "24374    1285.50       NaN  51063.32          51063.32  2011    NaN   \n",
       "24771       0.00       NaN  49777.82          49777.82  2011    NaN   \n",
       "24772       0.00       NaN  49777.82          49777.82  2011    NaN   \n",
       "24773       0.00       NaN  49777.82          49777.82  2011    NaN   \n",
       "20867       0.00       NaN  60530.87          60530.87  2011    NaN   \n",
       "24456    1040.00       NaN  50817.81          50817.81  2011    NaN   \n",
       "24578     624.00       NaN  50401.81          50401.81  2011    NaN   \n",
       "24579     624.00       NaN  50401.81          50401.81  2011    NaN   \n",
       "24581     624.00       NaN  50401.81          50401.81  2011    NaN   \n",
       "24775       0.00       NaN  49777.81          49777.81  2011    NaN   \n",
       "24776       0.00       NaN  49777.81          49777.81  2011    NaN   \n",
       "24132     624.00       NaN  51792.25          51792.25  2011    NaN   \n",
       "24264    1618.00       NaN  51395.80          51395.80  2011    NaN   \n",
       "24377    1279.39       NaN  51057.19          51057.19  2011    NaN   \n",
       "24416    1160.00       NaN  50937.80          50937.80  2011    NaN   \n",
       "24449    1064.01       NaN  50841.81          50841.81  2011    NaN   \n",
       "24486       0.00       NaN  50709.78          50709.78  2011    NaN   \n",
       "24577     624.03       NaN  50401.83          50401.83  2011    NaN   \n",
       "...          ...       ...       ...               ...   ...    ...   \n",
       "65835      78.97   2178.46  25706.56          27885.02  2012    NaN   \n",
       "103259      0.00    253.78  25376.40          25630.18  2013    NaN   \n",
       "139672    250.00  11253.98  27223.02          38477.00  2014    NaN   \n",
       "141214      0.00    239.19  23916.96          24156.15  2014    NaN   \n",
       "66120       0.00   1830.70  23624.32          25455.02  2012    NaN   \n",
       "66095     287.66   2112.36  23531.00          25643.36  2012    NaN   \n",
       "141132   1502.55    245.62  24561.57          24807.19  2014    NaN   \n",
       "66106     938.05   1833.94  23688.13          25522.07  2012    NaN   \n",
       "66351     369.74   1984.09  21739.04          23723.13  2012    NaN   \n",
       "141658    576.93    208.46  20988.92          21197.38  2014    NaN   \n",
       "140557   1583.86    295.81  29580.49          29876.30  2014    NaN   \n",
       "141804      0.00    200.01  20000.50          20200.51  2014    NaN   \n",
       "141976      0.00    190.32  19031.51          19221.83  2014    NaN   \n",
       "141903    737.49    194.93  19492.70          19687.63  2014    NaN   \n",
       "66991     250.00   6712.97  12873.29          19586.26  2012    NaN   \n",
       "143293    525.48    127.67  12765.54          12893.21  2014    NaN   \n",
       "143631    185.73    113.42  11341.85          11455.27  2014    NaN   \n",
       "143520    677.34    117.54  11754.94          11872.48  2014    NaN   \n",
       "105721    191.42    108.64  10865.62          10974.26  2013    NaN   \n",
       "106193    321.20     92.15   9214.28           9306.43  2013    NaN   \n",
       "107095      4.03     74.56   7455.83           7530.39  2013    NaN   \n",
       "107108    121.35     74.28   7428.39           7502.67  2013    NaN   \n",
       "107474     30.21     62.99   6298.79           6361.78  2013    NaN   \n",
       "109794      0.00     10.07   1007.00           1017.07  2013    NaN   \n",
       "23391    1022.96       NaN  53632.87          53632.87  2011    NaN   \n",
       "58842       0.00  28229.66  57544.73          85774.39  2012    NaN   \n",
       "98074       0.00  25297.50  52433.88          77731.38  2013    NaN   \n",
       "138458   4048.49  15545.28  36465.91          52011.19  2014    NaN   \n",
       "103333   5296.91   5744.53  19212.71          24957.24  2013    NaN   \n",
       "18778   23538.56       NaN  66686.56          66686.56  2011    NaN   \n",
       "\n",
       "               Agency Status  \n",
       "20765   San Francisco         \n",
       "21638   San Francisco         \n",
       "22972   San Francisco         \n",
       "24573   San Francisco         \n",
       "24574   San Francisco         \n",
       "24766   San Francisco         \n",
       "24691   San Francisco         \n",
       "24767   San Francisco         \n",
       "24758   San Francisco         \n",
       "24674   San Francisco         \n",
       "24769   San Francisco         \n",
       "24770   San Francisco         \n",
       "24374   San Francisco         \n",
       "24771   San Francisco         \n",
       "24772   San Francisco         \n",
       "24773   San Francisco         \n",
       "20867   San Francisco         \n",
       "24456   San Francisco         \n",
       "24578   San Francisco         \n",
       "24579   San Francisco         \n",
       "24581   San Francisco         \n",
       "24775   San Francisco         \n",
       "24776   San Francisco         \n",
       "24132   San Francisco         \n",
       "24264   San Francisco         \n",
       "24377   San Francisco         \n",
       "24416   San Francisco         \n",
       "24449   San Francisco         \n",
       "24486   San Francisco         \n",
       "24577   San Francisco         \n",
       "...               ...    ...  \n",
       "65835   San Francisco         \n",
       "103259  San Francisco         \n",
       "139672  San Francisco     PT  \n",
       "141214  San Francisco     PT  \n",
       "66120   San Francisco         \n",
       "66095   San Francisco         \n",
       "141132  San Francisco     PT  \n",
       "66106   San Francisco         \n",
       "66351   San Francisco         \n",
       "141658  San Francisco     PT  \n",
       "140557  San Francisco     PT  \n",
       "141804  San Francisco     PT  \n",
       "141976  San Francisco     PT  \n",
       "141903  San Francisco     PT  \n",
       "66991   San Francisco         \n",
       "143293  San Francisco     PT  \n",
       "143631  San Francisco     PT  \n",
       "143520  San Francisco     PT  \n",
       "105721  San Francisco         \n",
       "106193  San Francisco         \n",
       "107095  San Francisco         \n",
       "107108  San Francisco         \n",
       "107474  San Francisco         \n",
       "109794  San Francisco         \n",
       "23391   San Francisco         \n",
       "58842   San Francisco         \n",
       "98074   San Francisco         \n",
       "138458  San Francisco     PT  \n",
       "103333  San Francisco         \n",
       "18778   San Francisco         \n",
       "\n",
       "[148654 rows x 13 columns]"
      ]
     },
     "execution_count": 52,
     "metadata": {},
     "output_type": "execute_result"
    }
   ],
   "source": [
    "frame_salaries.sort_values([\"JobTitle\",\"BasePay\"],ascending=[True,False])"
   ]
  },
  {
   "cell_type": "markdown",
   "metadata": {
    "slideshow": {
     "slide_type": "slide"
    }
   },
   "source": [
    "# Les statistiques simples\n",
    "\n",
    "Les Dataframe possèdent de nombreuses méthodes pour calculer des statistiques simples :\n",
    "- `.sum(axis=0)` permet de faire une somme par colonne\n",
    "- `.sum(axis=1)` permet de faire une somme par ligne\n",
    "- `.min()` et `.max()` donnent le minimum par colonne\n",
    "- `.idxmin()` et `.idxmax()` donnent l’index du minimum et du maximum\n",
    "- `.describe()` affiche un tableau de statistiques descriptives par colonne\n",
    "- `.corr()` pour calculer la corrélation entre les colonnes"
   ]
  },
  {
   "cell_type": "markdown",
   "metadata": {
    "slideshow": {
     "slide_type": "subslide"
    }
   },
   "source": [
    "**Exercice :**\n",
    "    \n",
    "Obtenir les différentes statistiques descriptives pour les données AirBnB.\n"
   ]
  },
  {
   "cell_type": "code",
   "execution_count": 53,
   "metadata": {},
   "outputs": [
    {
     "data": {
      "text/html": [
       "<div>\n",
       "<style scoped>\n",
       "    .dataframe tbody tr th:only-of-type {\n",
       "        vertical-align: middle;\n",
       "    }\n",
       "\n",
       "    .dataframe tbody tr th {\n",
       "        vertical-align: top;\n",
       "    }\n",
       "\n",
       "    .dataframe thead th {\n",
       "        text-align: right;\n",
       "    }\n",
       "</style>\n",
       "<table border=\"1\" class=\"dataframe\">\n",
       "  <thead>\n",
       "    <tr style=\"text-align: right;\">\n",
       "      <th></th>\n",
       "      <th>Id</th>\n",
       "      <th>BasePay</th>\n",
       "      <th>OvertimePay</th>\n",
       "      <th>OtherPay</th>\n",
       "      <th>Benefits</th>\n",
       "      <th>TotalPay</th>\n",
       "      <th>TotalPayBenefits</th>\n",
       "      <th>Year</th>\n",
       "      <th>Notes</th>\n",
       "    </tr>\n",
       "  </thead>\n",
       "  <tbody>\n",
       "    <tr>\n",
       "      <th>count</th>\n",
       "      <td>148654.000000</td>\n",
       "      <td>148045.000000</td>\n",
       "      <td>148650.000000</td>\n",
       "      <td>148650.000000</td>\n",
       "      <td>112491.000000</td>\n",
       "      <td>148654.000000</td>\n",
       "      <td>148654.000000</td>\n",
       "      <td>148654.000000</td>\n",
       "      <td>0.0</td>\n",
       "    </tr>\n",
       "    <tr>\n",
       "      <th>mean</th>\n",
       "      <td>74327.500000</td>\n",
       "      <td>66325.448841</td>\n",
       "      <td>5066.059886</td>\n",
       "      <td>3648.767297</td>\n",
       "      <td>25007.893151</td>\n",
       "      <td>74768.321972</td>\n",
       "      <td>93692.554811</td>\n",
       "      <td>2012.522643</td>\n",
       "      <td>NaN</td>\n",
       "    </tr>\n",
       "    <tr>\n",
       "      <th>std</th>\n",
       "      <td>42912.857795</td>\n",
       "      <td>42764.635495</td>\n",
       "      <td>11454.380559</td>\n",
       "      <td>8056.601866</td>\n",
       "      <td>15402.215858</td>\n",
       "      <td>50517.005274</td>\n",
       "      <td>62793.533483</td>\n",
       "      <td>1.117538</td>\n",
       "      <td>NaN</td>\n",
       "    </tr>\n",
       "    <tr>\n",
       "      <th>min</th>\n",
       "      <td>1.000000</td>\n",
       "      <td>-166.010000</td>\n",
       "      <td>-0.010000</td>\n",
       "      <td>-7058.590000</td>\n",
       "      <td>-33.890000</td>\n",
       "      <td>-618.130000</td>\n",
       "      <td>-618.130000</td>\n",
       "      <td>2011.000000</td>\n",
       "      <td>NaN</td>\n",
       "    </tr>\n",
       "    <tr>\n",
       "      <th>25%</th>\n",
       "      <td>37164.250000</td>\n",
       "      <td>33588.200000</td>\n",
       "      <td>0.000000</td>\n",
       "      <td>0.000000</td>\n",
       "      <td>11535.395000</td>\n",
       "      <td>36168.995000</td>\n",
       "      <td>44065.650000</td>\n",
       "      <td>2012.000000</td>\n",
       "      <td>NaN</td>\n",
       "    </tr>\n",
       "    <tr>\n",
       "      <th>50%</th>\n",
       "      <td>74327.500000</td>\n",
       "      <td>65007.450000</td>\n",
       "      <td>0.000000</td>\n",
       "      <td>811.270000</td>\n",
       "      <td>28628.620000</td>\n",
       "      <td>71426.610000</td>\n",
       "      <td>92404.090000</td>\n",
       "      <td>2013.000000</td>\n",
       "      <td>NaN</td>\n",
       "    </tr>\n",
       "    <tr>\n",
       "      <th>75%</th>\n",
       "      <td>111490.750000</td>\n",
       "      <td>94691.050000</td>\n",
       "      <td>4658.175000</td>\n",
       "      <td>4236.065000</td>\n",
       "      <td>35566.855000</td>\n",
       "      <td>105839.135000</td>\n",
       "      <td>132876.450000</td>\n",
       "      <td>2014.000000</td>\n",
       "      <td>NaN</td>\n",
       "    </tr>\n",
       "    <tr>\n",
       "      <th>max</th>\n",
       "      <td>148654.000000</td>\n",
       "      <td>319275.010000</td>\n",
       "      <td>245131.880000</td>\n",
       "      <td>400184.250000</td>\n",
       "      <td>96570.660000</td>\n",
       "      <td>567595.430000</td>\n",
       "      <td>567595.430000</td>\n",
       "      <td>2014.000000</td>\n",
       "      <td>NaN</td>\n",
       "    </tr>\n",
       "  </tbody>\n",
       "</table>\n",
       "</div>"
      ],
      "text/plain": [
       "                  Id        BasePay    OvertimePay       OtherPay  \\\n",
       "count  148654.000000  148045.000000  148650.000000  148650.000000   \n",
       "mean    74327.500000   66325.448841    5066.059886    3648.767297   \n",
       "std     42912.857795   42764.635495   11454.380559    8056.601866   \n",
       "min         1.000000    -166.010000      -0.010000   -7058.590000   \n",
       "25%     37164.250000   33588.200000       0.000000       0.000000   \n",
       "50%     74327.500000   65007.450000       0.000000     811.270000   \n",
       "75%    111490.750000   94691.050000    4658.175000    4236.065000   \n",
       "max    148654.000000  319275.010000  245131.880000  400184.250000   \n",
       "\n",
       "            Benefits       TotalPay  TotalPayBenefits           Year  Notes  \n",
       "count  112491.000000  148654.000000     148654.000000  148654.000000    0.0  \n",
       "mean    25007.893151   74768.321972      93692.554811    2012.522643    NaN  \n",
       "std     15402.215858   50517.005274      62793.533483       1.117538    NaN  \n",
       "min       -33.890000    -618.130000       -618.130000    2011.000000    NaN  \n",
       "25%     11535.395000   36168.995000      44065.650000    2012.000000    NaN  \n",
       "50%     28628.620000   71426.610000      92404.090000    2013.000000    NaN  \n",
       "75%     35566.855000  105839.135000     132876.450000    2014.000000    NaN  \n",
       "max     96570.660000  567595.430000     567595.430000    2014.000000    NaN  "
      ]
     },
     "execution_count": 53,
     "metadata": {},
     "output_type": "execute_result"
    }
   ],
   "source": [
    "frame_salaries.describe()"
   ]
  },
  {
   "cell_type": "code",
   "execution_count": 54,
   "metadata": {},
   "outputs": [
    {
     "data": {
      "text/html": [
       "<div>\n",
       "<style scoped>\n",
       "    .dataframe tbody tr th:only-of-type {\n",
       "        vertical-align: middle;\n",
       "    }\n",
       "\n",
       "    .dataframe tbody tr th {\n",
       "        vertical-align: top;\n",
       "    }\n",
       "\n",
       "    .dataframe thead th {\n",
       "        text-align: right;\n",
       "    }\n",
       "</style>\n",
       "<table border=\"1\" class=\"dataframe\">\n",
       "  <thead>\n",
       "    <tr style=\"text-align: right;\">\n",
       "      <th></th>\n",
       "      <th>Id</th>\n",
       "      <th>BasePay</th>\n",
       "      <th>OvertimePay</th>\n",
       "      <th>OtherPay</th>\n",
       "      <th>Benefits</th>\n",
       "      <th>TotalPay</th>\n",
       "      <th>TotalPayBenefits</th>\n",
       "      <th>Year</th>\n",
       "      <th>Notes</th>\n",
       "    </tr>\n",
       "  </thead>\n",
       "  <tbody>\n",
       "    <tr>\n",
       "      <th>Id</th>\n",
       "      <td>1.000000</td>\n",
       "      <td>-0.204878</td>\n",
       "      <td>-0.081505</td>\n",
       "      <td>-0.100403</td>\n",
       "      <td>-0.348957</td>\n",
       "      <td>-0.211478</td>\n",
       "      <td>-0.092190</td>\n",
       "      <td>0.968171</td>\n",
       "      <td>NaN</td>\n",
       "    </tr>\n",
       "    <tr>\n",
       "      <th>BasePay</th>\n",
       "      <td>-0.204878</td>\n",
       "      <td>1.000000</td>\n",
       "      <td>0.266740</td>\n",
       "      <td>0.285655</td>\n",
       "      <td>0.918028</td>\n",
       "      <td>0.954494</td>\n",
       "      <td>0.946595</td>\n",
       "      <td>0.033751</td>\n",
       "      <td>NaN</td>\n",
       "    </tr>\n",
       "    <tr>\n",
       "      <th>OvertimePay</th>\n",
       "      <td>-0.081505</td>\n",
       "      <td>0.266740</td>\n",
       "      <td>1.000000</td>\n",
       "      <td>0.316592</td>\n",
       "      <td>0.301207</td>\n",
       "      <td>0.504859</td>\n",
       "      <td>0.467981</td>\n",
       "      <td>0.027887</td>\n",
       "      <td>NaN</td>\n",
       "    </tr>\n",
       "    <tr>\n",
       "      <th>OtherPay</th>\n",
       "      <td>-0.100403</td>\n",
       "      <td>0.285655</td>\n",
       "      <td>0.316592</td>\n",
       "      <td>1.000000</td>\n",
       "      <td>0.233178</td>\n",
       "      <td>0.470496</td>\n",
       "      <td>0.422341</td>\n",
       "      <td>-0.002499</td>\n",
       "      <td>NaN</td>\n",
       "    </tr>\n",
       "    <tr>\n",
       "      <th>Benefits</th>\n",
       "      <td>-0.348957</td>\n",
       "      <td>0.918028</td>\n",
       "      <td>0.301207</td>\n",
       "      <td>0.233178</td>\n",
       "      <td>1.000000</td>\n",
       "      <td>0.884097</td>\n",
       "      <td>0.930140</td>\n",
       "      <td>-0.043136</td>\n",
       "      <td>NaN</td>\n",
       "    </tr>\n",
       "    <tr>\n",
       "      <th>TotalPay</th>\n",
       "      <td>-0.211478</td>\n",
       "      <td>0.954494</td>\n",
       "      <td>0.504859</td>\n",
       "      <td>0.470496</td>\n",
       "      <td>0.884097</td>\n",
       "      <td>1.000000</td>\n",
       "      <td>0.977313</td>\n",
       "      <td>0.032090</td>\n",
       "      <td>NaN</td>\n",
       "    </tr>\n",
       "    <tr>\n",
       "      <th>TotalPayBenefits</th>\n",
       "      <td>-0.092190</td>\n",
       "      <td>0.946595</td>\n",
       "      <td>0.467981</td>\n",
       "      <td>0.422341</td>\n",
       "      <td>0.930140</td>\n",
       "      <td>0.977313</td>\n",
       "      <td>1.000000</td>\n",
       "      <td>0.151947</td>\n",
       "      <td>NaN</td>\n",
       "    </tr>\n",
       "    <tr>\n",
       "      <th>Year</th>\n",
       "      <td>0.968171</td>\n",
       "      <td>0.033751</td>\n",
       "      <td>0.027887</td>\n",
       "      <td>-0.002499</td>\n",
       "      <td>-0.043136</td>\n",
       "      <td>0.032090</td>\n",
       "      <td>0.151947</td>\n",
       "      <td>1.000000</td>\n",
       "      <td>NaN</td>\n",
       "    </tr>\n",
       "    <tr>\n",
       "      <th>Notes</th>\n",
       "      <td>NaN</td>\n",
       "      <td>NaN</td>\n",
       "      <td>NaN</td>\n",
       "      <td>NaN</td>\n",
       "      <td>NaN</td>\n",
       "      <td>NaN</td>\n",
       "      <td>NaN</td>\n",
       "      <td>NaN</td>\n",
       "      <td>NaN</td>\n",
       "    </tr>\n",
       "  </tbody>\n",
       "</table>\n",
       "</div>"
      ],
      "text/plain": [
       "                        Id   BasePay  OvertimePay  OtherPay  Benefits  \\\n",
       "Id                1.000000 -0.204878    -0.081505 -0.100403 -0.348957   \n",
       "BasePay          -0.204878  1.000000     0.266740  0.285655  0.918028   \n",
       "OvertimePay      -0.081505  0.266740     1.000000  0.316592  0.301207   \n",
       "OtherPay         -0.100403  0.285655     0.316592  1.000000  0.233178   \n",
       "Benefits         -0.348957  0.918028     0.301207  0.233178  1.000000   \n",
       "TotalPay         -0.211478  0.954494     0.504859  0.470496  0.884097   \n",
       "TotalPayBenefits -0.092190  0.946595     0.467981  0.422341  0.930140   \n",
       "Year              0.968171  0.033751     0.027887 -0.002499 -0.043136   \n",
       "Notes                  NaN       NaN          NaN       NaN       NaN   \n",
       "\n",
       "                  TotalPay  TotalPayBenefits      Year  Notes  \n",
       "Id               -0.211478         -0.092190  0.968171    NaN  \n",
       "BasePay           0.954494          0.946595  0.033751    NaN  \n",
       "OvertimePay       0.504859          0.467981  0.027887    NaN  \n",
       "OtherPay          0.470496          0.422341 -0.002499    NaN  \n",
       "Benefits          0.884097          0.930140 -0.043136    NaN  \n",
       "TotalPay          1.000000          0.977313  0.032090    NaN  \n",
       "TotalPayBenefits  0.977313          1.000000  0.151947    NaN  \n",
       "Year              0.032090          0.151947  1.000000    NaN  \n",
       "Notes                  NaN               NaN       NaN    NaN  "
      ]
     },
     "execution_count": 54,
     "metadata": {},
     "output_type": "execute_result"
    }
   ],
   "source": [
    "frame_salaries.corr()"
   ]
  },
  {
   "cell_type": "markdown",
   "metadata": {
    "slideshow": {
     "slide_type": "slide"
    }
   },
   "source": [
    "# Le traitement des données manquantes\n",
    "\n",
    "- Les données manquantes sont identifiées par `NaN`\n",
    "\n",
    "\n",
    "- `.dropna()` permet de retirer les données manquantes dans un objet Series et l’ensemble d’une ligne dans le cas d’un DataFrame\n",
    "- Pour éliminer par colonne, on utilise `.dropna(axis=1)`\n",
    "- Remplacer toutes les données manquantes `.fillna(valeur)`\n"
   ]
  },
  {
   "cell_type": "markdown",
   "metadata": {
    "slideshow": {
     "slide_type": "slide"
    }
   },
   "source": [
    "# Les jointures avec Pandas\n",
    "\n",
    "On veut joindre des jeux de données en utilisant des clés (variables communes)\n",
    "\n",
    "- `pd.merge()` permet de joindre deux DataFrame, on utilise comme options `on='key'`\n",
    "\n",
    "- On peut utiliser comme option `how=`, on peut avoir :\n",
    "    - `left` dans ce cas, on garde le jeu de données à gauche et pour les données de droite des valeurs manquantes sont ajoutées.\n",
    "    - `outer`, on garde toutes les valeurs des deux jeux de données\n",
    "    - ...\n",
    "\n",
    "- On peut avoir plusieurs clés et faire une jointure sur les deux clés `on=['key1','key2']`\n",
    "\n",
    "Pour plus de détails : <http://pandas.pydata.org/pandas-docs/dev/generated/pandas.DataFrame.merge.html>\n"
   ]
  },
  {
   "cell_type": "markdown",
   "metadata": {
    "slideshow": {
     "slide_type": "subslide"
    }
   },
   "source": [
    "**Exercice :**\n",
    "    \n",
    "Joindre deux dataframes (credit1 et credit2).\n"
   ]
  },
  {
   "cell_type": "code",
   "execution_count": 55,
   "metadata": {},
   "outputs": [],
   "source": [
    "credit1 = pd.read_table(\"./Data/credit1.txt\")"
   ]
  },
  {
   "cell_type": "code",
   "execution_count": 56,
   "metadata": {},
   "outputs": [],
   "source": [
    "credit2 = pd.read_excel(\"./Data/credit2.xlsx\")"
   ]
  },
  {
   "cell_type": "code",
   "execution_count": 57,
   "metadata": {},
   "outputs": [],
   "source": [
    "credit_global = pd.merge(credit1,credit2, on=\"Customer_ID\")"
   ]
  },
  {
   "cell_type": "code",
   "execution_count": 58,
   "metadata": {},
   "outputs": [
    {
     "data": {
      "text/html": [
       "<div>\n",
       "<style scoped>\n",
       "    .dataframe tbody tr th:only-of-type {\n",
       "        vertical-align: middle;\n",
       "    }\n",
       "\n",
       "    .dataframe tbody tr th {\n",
       "        vertical-align: top;\n",
       "    }\n",
       "\n",
       "    .dataframe thead th {\n",
       "        text-align: right;\n",
       "    }\n",
       "</style>\n",
       "<table border=\"1\" class=\"dataframe\">\n",
       "  <thead>\n",
       "    <tr style=\"text-align: right;\">\n",
       "      <th></th>\n",
       "      <th>Months_as_a_Customer</th>\n",
       "      <th>Number_of_Products</th>\n",
       "      <th>RFM_Score</th>\n",
       "      <th>Average_Balance_Feed_Index</th>\n",
       "      <th>Number_of_Transactions</th>\n",
       "      <th>Personal_Debt_to_Equity_Ratio</th>\n",
       "      <th>Months_Current_Account</th>\n",
       "      <th>Number_of_Loan_Accounts</th>\n",
       "      <th>Customer_ID</th>\n",
       "      <th>Has_Bad_Payment_Record</th>\n",
       "      <th>...</th>\n",
       "      <th>Interested_in_Credit_Card</th>\n",
       "      <th>Age</th>\n",
       "      <th>Gender</th>\n",
       "      <th>Marital_Status</th>\n",
       "      <th>Age_Youngest_Child</th>\n",
       "      <th>Number_of_Workers_in_Household</th>\n",
       "      <th>Percentage_White_Collar_Workers</th>\n",
       "      <th>Household_Debt_to_Equity_Ratio</th>\n",
       "      <th>Income</th>\n",
       "      <th>Homeowner</th>\n",
       "    </tr>\n",
       "  </thead>\n",
       "  <tbody>\n",
       "    <tr>\n",
       "      <th>0</th>\n",
       "      <td>24</td>\n",
       "      <td>3</td>\n",
       "      <td>10</td>\n",
       "      <td>229</td>\n",
       "      <td>2</td>\n",
       "      <td>40</td>\n",
       "      <td>13</td>\n",
       "      <td>0</td>\n",
       "      <td>5409</td>\n",
       "      <td>0</td>\n",
       "      <td>...</td>\n",
       "      <td>F</td>\n",
       "      <td>40</td>\n",
       "      <td>F</td>\n",
       "      <td>S</td>\n",
       "      <td>11</td>\n",
       "      <td>6</td>\n",
       "      <td>37</td>\n",
       "      <td>56</td>\n",
       "      <td>37073</td>\n",
       "      <td>F</td>\n",
       "    </tr>\n",
       "    <tr>\n",
       "      <th>1</th>\n",
       "      <td>12</td>\n",
       "      <td>2</td>\n",
       "      <td>12</td>\n",
       "      <td>8</td>\n",
       "      <td>1</td>\n",
       "      <td>47</td>\n",
       "      <td>5</td>\n",
       "      <td>2</td>\n",
       "      <td>5477</td>\n",
       "      <td>0</td>\n",
       "      <td>...</td>\n",
       "      <td>F</td>\n",
       "      <td>47</td>\n",
       "      <td>M</td>\n",
       "      <td>M</td>\n",
       "      <td>13</td>\n",
       "      <td>13</td>\n",
       "      <td>30</td>\n",
       "      <td>56</td>\n",
       "      <td>50721</td>\n",
       "      <td>F</td>\n",
       "    </tr>\n",
       "    <tr>\n",
       "      <th>2</th>\n",
       "      <td>36</td>\n",
       "      <td>0</td>\n",
       "      <td>0</td>\n",
       "      <td>0</td>\n",
       "      <td>0</td>\n",
       "      <td>35</td>\n",
       "      <td>31</td>\n",
       "      <td>0</td>\n",
       "      <td>5507</td>\n",
       "      <td>0</td>\n",
       "      <td>...</td>\n",
       "      <td>F</td>\n",
       "      <td>35</td>\n",
       "      <td>F</td>\n",
       "      <td>U</td>\n",
       "      <td>1</td>\n",
       "      <td>9</td>\n",
       "      <td>33</td>\n",
       "      <td>57</td>\n",
       "      <td>43578</td>\n",
       "      <td>T</td>\n",
       "    </tr>\n",
       "    <tr>\n",
       "      <th>3</th>\n",
       "      <td>0</td>\n",
       "      <td>0</td>\n",
       "      <td>0</td>\n",
       "      <td>0</td>\n",
       "      <td>0</td>\n",
       "      <td>45</td>\n",
       "      <td>-3</td>\n",
       "      <td>0</td>\n",
       "      <td>8</td>\n",
       "      <td>0</td>\n",
       "      <td>...</td>\n",
       "      <td>F</td>\n",
       "      <td>45</td>\n",
       "      <td>M</td>\n",
       "      <td>U</td>\n",
       "      <td>15</td>\n",
       "      <td>7</td>\n",
       "      <td>30</td>\n",
       "      <td>62</td>\n",
       "      <td>69553</td>\n",
       "      <td>F</td>\n",
       "    </tr>\n",
       "    <tr>\n",
       "      <th>4</th>\n",
       "      <td>48</td>\n",
       "      <td>0</td>\n",
       "      <td>0</td>\n",
       "      <td>0</td>\n",
       "      <td>0</td>\n",
       "      <td>13</td>\n",
       "      <td>39</td>\n",
       "      <td>0</td>\n",
       "      <td>158</td>\n",
       "      <td>0</td>\n",
       "      <td>...</td>\n",
       "      <td>F</td>\n",
       "      <td>13</td>\n",
       "      <td>F</td>\n",
       "      <td>S</td>\n",
       "      <td>0</td>\n",
       "      <td>7</td>\n",
       "      <td>27</td>\n",
       "      <td>64</td>\n",
       "      <td>37502</td>\n",
       "      <td>T</td>\n",
       "    </tr>\n",
       "  </tbody>\n",
       "</table>\n",
       "<p>5 rows × 31 columns</p>\n",
       "</div>"
      ],
      "text/plain": [
       "   Months_as_a_Customer  Number_of_Products  RFM_Score  \\\n",
       "0                    24                   3         10   \n",
       "1                    12                   2         12   \n",
       "2                    36                   0          0   \n",
       "3                     0                   0          0   \n",
       "4                    48                   0          0   \n",
       "\n",
       "   Average_Balance_Feed_Index  Number_of_Transactions  \\\n",
       "0                         229                       2   \n",
       "1                           8                       1   \n",
       "2                           0                       0   \n",
       "3                           0                       0   \n",
       "4                           0                       0   \n",
       "\n",
       "   Personal_Debt_to_Equity_Ratio  Months_Current_Account  \\\n",
       "0                             40                      13   \n",
       "1                             47                       5   \n",
       "2                             35                      31   \n",
       "3                             45                      -3   \n",
       "4                             13                      39   \n",
       "\n",
       "   Number_of_Loan_Accounts  Customer_ID  Has_Bad_Payment_Record    ...     \\\n",
       "0                        0         5409                       0    ...      \n",
       "1                        2         5477                       0    ...      \n",
       "2                        0         5507                       0    ...      \n",
       "3                        0            8                       0    ...      \n",
       "4                        0          158                       0    ...      \n",
       "\n",
       "   Interested_in_Credit_Card  Age  Gender Marital_Status Age_Youngest_Child  \\\n",
       "0                          F   40       F              S                 11   \n",
       "1                          F   47       M              M                 13   \n",
       "2                          F   35       F              U                  1   \n",
       "3                          F   45       M              U                 15   \n",
       "4                          F   13       F              S                  0   \n",
       "\n",
       "  Number_of_Workers_in_Household Percentage_White_Collar_Workers  \\\n",
       "0                              6                              37   \n",
       "1                             13                              30   \n",
       "2                              9                              33   \n",
       "3                              7                              30   \n",
       "4                              7                              27   \n",
       "\n",
       "   Household_Debt_to_Equity_Ratio Income Homeowner  \n",
       "0                              56  37073         F  \n",
       "1                              56  50721         F  \n",
       "2                              57  43578         T  \n",
       "3                              62  69553         F  \n",
       "4                              64  37502         T  \n",
       "\n",
       "[5 rows x 31 columns]"
      ]
     },
     "execution_count": 58,
     "metadata": {},
     "output_type": "execute_result"
    }
   ],
   "source": [
    "credit_global.head()"
   ]
  },
  {
   "cell_type": "markdown",
   "metadata": {
    "slideshow": {
     "slide_type": "slide"
    }
   },
   "source": [
    "# Gestion des duplications\n",
    "\n",
    "- On utilise `.duplicated()` ou `.drop_duplicates()` dans le cas où on désire effacer les lignes se répétant\n",
    "\n",
    "\n",
    "- On peut se concentrer sur une seule variables en entrant directement le nom de la variable. Dans ce cas, c’est la première apparition qui compte. Si on veut prendre la dernière apparition, on utilise l’option `keep=\"last\"`. On pourra avoir :\n",
    "```python\n",
    "frame1.drop_duplicates([\"col_0\",\"col_1\"],keep=\"last\")\n",
    "```"
   ]
  },
  {
   "cell_type": "markdown",
   "metadata": {
    "slideshow": {
     "slide_type": "slide"
    }
   },
   "source": [
    "# Discrétisation\n",
    "\n",
    "Pour discrétiser, on utilise la fonction `pd.cut()`, on va définir une liste de points pour discrétiser et on entre cette liste comme second paramètre de la fonction.\n",
    "\n",
    "Une fois discrétisé, on peut afficher les modalités obtenues en utilisant `.categories`\n",
    "\n",
    "On peut aussi compter les occurrence en utilisant `pd.value_counts()`\n",
    "\n",
    "Il est aussi possible d’entrer le nombre de segments comme second paramètre\n",
    "\n",
    "On utilisera aussi `qcut()`"
   ]
  },
  {
   "cell_type": "markdown",
   "metadata": {
    "slideshow": {
     "slide_type": "subslide"
    }
   },
   "source": [
    "**Exercice :**\n",
    "    \n",
    "Créez une variable dans le dataframe AirBnB pour obtenir des niveaux de prix.\n"
   ]
  },
  {
   "cell_type": "code",
   "execution_count": null,
   "metadata": {},
   "outputs": [],
   "source": [
    "# on récupère les données airbnb\n",
    "frame_airbnb = pd.read_csv(\"https://www.stat4decision.com/airbnb.csv\",index_col = 0)"
   ]
  },
  {
   "cell_type": "code",
   "execution_count": 60,
   "metadata": {
    "scrolled": true
   },
   "outputs": [],
   "source": [
    "# on crée une colonne prix numérique\n",
    "frame_airbnb[\"price_num\"]=pd.to_numeric(frame_airbnb[\"price\"].str[1:].str.replace(\",\",\"\"))"
   ]
  },
  {
   "cell_type": "code",
   "execution_count": 61,
   "metadata": {},
   "outputs": [],
   "source": [
    "# on discrétise en 5 classes\n",
    "frame_airbnb[\"price_disc\"]=pd.cut(frame_airbnb[\"price_num\"],5)\n",
    "frame_airbnb[\"price_disc2\"]=pd.qcut(frame_airbnb[\"price_num\"],5)\n",
    "frame_airbnb[\"price_disc3\"]=pd.cut(frame_airbnb[\"price_num\"],[0,50,100,1000,10000],labels=[\"les petits\",\n",
    "                                                                                          \"les moyens\",\n",
    "                                                                                          \"les grands\",\n",
    "                                                                                          \"les très grands\"])\n"
   ]
  },
  {
   "cell_type": "code",
   "execution_count": 62,
   "metadata": {},
   "outputs": [
    {
     "data": {
      "text/plain": [
       "(-7.79, 1558.0]     56516\n",
       "(1558.0, 3116.0]       15\n",
       "(4674.0, 6232.0]        3\n",
       "(6232.0, 7790.0]        1\n",
       "(3116.0, 4674.0]        0\n",
       "Name: price_disc, dtype: int64"
      ]
     },
     "execution_count": 62,
     "metadata": {},
     "output_type": "execute_result"
    }
   ],
   "source": [
    "frame_airbnb[\"price_disc\"].value_counts()"
   ]
  },
  {
   "cell_type": "code",
   "execution_count": 63,
   "metadata": {},
   "outputs": [
    {
     "data": {
      "text/plain": [
       "(-0.001, 50.0]     13197\n",
       "(50.0, 65.0]        9700\n",
       "(65.0, 85.0]       11585\n",
       "(85.0, 120.0]      11354\n",
       "(120.0, 7790.0]    10699\n",
       "Name: price_disc2, dtype: int64"
      ]
     },
     "execution_count": 63,
     "metadata": {},
     "output_type": "execute_result"
    }
   ],
   "source": [
    "frame_airbnb[\"price_disc2\"].value_counts().sort_index()"
   ]
  },
  {
   "cell_type": "code",
   "execution_count": 64,
   "metadata": {},
   "outputs": [
    {
     "data": {
      "text/plain": [
       "les petits         13196\n",
       "les moyens         28768\n",
       "les grands         14528\n",
       "les très grands       42\n",
       "Name: price_disc3, dtype: int64"
      ]
     },
     "execution_count": 64,
     "metadata": {},
     "output_type": "execute_result"
    }
   ],
   "source": [
    "frame_airbnb[\"price_disc3\"].value_counts().sort_index()"
   ]
  },
  {
   "cell_type": "code",
   "execution_count": 65,
   "metadata": {},
   "outputs": [
    {
     "data": {
      "text/html": [
       "<div>\n",
       "<style scoped>\n",
       "    .dataframe tbody tr th:only-of-type {\n",
       "        vertical-align: middle;\n",
       "    }\n",
       "\n",
       "    .dataframe tbody tr th {\n",
       "        vertical-align: top;\n",
       "    }\n",
       "\n",
       "    .dataframe thead th {\n",
       "        text-align: right;\n",
       "    }\n",
       "</style>\n",
       "<table border=\"1\" class=\"dataframe\">\n",
       "  <thead>\n",
       "    <tr style=\"text-align: right;\">\n",
       "      <th></th>\n",
       "      <th>listing_url</th>\n",
       "      <th>scrape_id</th>\n",
       "      <th>last_scraped</th>\n",
       "      <th>name</th>\n",
       "      <th>summary</th>\n",
       "      <th>space</th>\n",
       "      <th>description</th>\n",
       "      <th>experiences_offered</th>\n",
       "      <th>neighborhood_overview</th>\n",
       "      <th>notes</th>\n",
       "      <th>...</th>\n",
       "      <th>instant_bookable</th>\n",
       "      <th>cancellation_policy</th>\n",
       "      <th>require_guest_profile_picture</th>\n",
       "      <th>require_guest_phone_verification</th>\n",
       "      <th>calculated_host_listings_count</th>\n",
       "      <th>reviews_per_month</th>\n",
       "      <th>price_num</th>\n",
       "      <th>price_disc</th>\n",
       "      <th>price_disc2</th>\n",
       "      <th>price_disc3</th>\n",
       "    </tr>\n",
       "    <tr>\n",
       "      <th>id</th>\n",
       "      <th></th>\n",
       "      <th></th>\n",
       "      <th></th>\n",
       "      <th></th>\n",
       "      <th></th>\n",
       "      <th></th>\n",
       "      <th></th>\n",
       "      <th></th>\n",
       "      <th></th>\n",
       "      <th></th>\n",
       "      <th></th>\n",
       "      <th></th>\n",
       "      <th></th>\n",
       "      <th></th>\n",
       "      <th></th>\n",
       "      <th></th>\n",
       "      <th></th>\n",
       "      <th></th>\n",
       "      <th></th>\n",
       "      <th></th>\n",
       "      <th></th>\n",
       "    </tr>\n",
       "  </thead>\n",
       "  <tbody>\n",
       "    <tr>\n",
       "      <th>3508970</th>\n",
       "      <td>https://www.airbnb.com/rooms/3508970</td>\n",
       "      <td>20170404145355</td>\n",
       "      <td>2017-04-06</td>\n",
       "      <td>Cosy Aptmt Bastille - Gare de Lyon</td>\n",
       "      <td>Cosy petit appartement de 60m2 situé aux pieds...</td>\n",
       "      <td>NaN</td>\n",
       "      <td>Cosy petit appartement de 60m2 situé aux pieds...</td>\n",
       "      <td>none</td>\n",
       "      <td>Marché d'Aligre, Coulée verte, Bastille, Squar...</td>\n",
       "      <td>NaN</td>\n",
       "      <td>...</td>\n",
       "      <td>f</td>\n",
       "      <td>moderate</td>\n",
       "      <td>f</td>\n",
       "      <td>f</td>\n",
       "      <td>1</td>\n",
       "      <td>0.46</td>\n",
       "      <td>80.0</td>\n",
       "      <td>(-7.79, 1558.0]</td>\n",
       "      <td>(65.0, 85.0]</td>\n",
       "      <td>les moyens</td>\n",
       "    </tr>\n",
       "    <tr>\n",
       "      <th>13222966</th>\n",
       "      <td>https://www.airbnb.com/rooms/13222966</td>\n",
       "      <td>20170404145355</td>\n",
       "      <td>2017-04-06</td>\n",
       "      <td>Modern &amp; bright Haussmann STUDIO (25m2 +mezzan...</td>\n",
       "      <td>This bright studio is located in an Haussmann ...</td>\n",
       "      <td>NaN</td>\n",
       "      <td>This bright studio is located in an Haussmann ...</td>\n",
       "      <td>none</td>\n",
       "      <td>NaN</td>\n",
       "      <td>NaN</td>\n",
       "      <td>...</td>\n",
       "      <td>f</td>\n",
       "      <td>flexible</td>\n",
       "      <td>f</td>\n",
       "      <td>f</td>\n",
       "      <td>1</td>\n",
       "      <td>0.30</td>\n",
       "      <td>55.0</td>\n",
       "      <td>(-7.79, 1558.0]</td>\n",
       "      <td>(50.0, 65.0]</td>\n",
       "      <td>les moyens</td>\n",
       "    </tr>\n",
       "    <tr>\n",
       "      <th>7337128</th>\n",
       "      <td>https://www.airbnb.com/rooms/7337128</td>\n",
       "      <td>20170404145355</td>\n",
       "      <td>2017-04-06</td>\n",
       "      <td>One flat in Nation, Paris 12th</td>\n",
       "      <td>The apartment is located in Nation (Paris’ eas...</td>\n",
       "      <td>NaN</td>\n",
       "      <td>The apartment is located in Nation (Paris’ eas...</td>\n",
       "      <td>none</td>\n",
       "      <td>NaN</td>\n",
       "      <td>NaN</td>\n",
       "      <td>...</td>\n",
       "      <td>f</td>\n",
       "      <td>strict</td>\n",
       "      <td>f</td>\n",
       "      <td>f</td>\n",
       "      <td>1</td>\n",
       "      <td>0.58</td>\n",
       "      <td>104.0</td>\n",
       "      <td>(-7.79, 1558.0]</td>\n",
       "      <td>(85.0, 120.0]</td>\n",
       "      <td>les grands</td>\n",
       "    </tr>\n",
       "    <tr>\n",
       "      <th>5764597</th>\n",
       "      <td>https://www.airbnb.com/rooms/5764597</td>\n",
       "      <td>20170404145355</td>\n",
       "      <td>2017-04-06</td>\n",
       "      <td>Studio 32 M² avec Balcon à Paris 12</td>\n",
       "      <td>Bonjour !</td>\n",
       "      <td>Je vous propose un studio lumineux de 32m2 sit...</td>\n",
       "      <td>Bonjour ! Je vous propose un studio lumineux d...</td>\n",
       "      <td>none</td>\n",
       "      <td>De nombreux restaurants sont à proximité, ains...</td>\n",
       "      <td>NaN</td>\n",
       "      <td>...</td>\n",
       "      <td>f</td>\n",
       "      <td>flexible</td>\n",
       "      <td>f</td>\n",
       "      <td>f</td>\n",
       "      <td>1</td>\n",
       "      <td>1.21</td>\n",
       "      <td>45.0</td>\n",
       "      <td>(-7.79, 1558.0]</td>\n",
       "      <td>(-0.001, 50.0]</td>\n",
       "      <td>les petits</td>\n",
       "    </tr>\n",
       "    <tr>\n",
       "      <th>7861852</th>\n",
       "      <td>https://www.airbnb.com/rooms/7861852</td>\n",
       "      <td>20170404145355</td>\n",
       "      <td>2017-04-06</td>\n",
       "      <td>Large private bedroom - Paris</td>\n",
       "      <td>Large bedroom (15 m²) in a spacious apartment ...</td>\n",
       "      <td>The bedroom is 15m² large and is equipped with...</td>\n",
       "      <td>Large bedroom (15 m²) in a spacious apartment ...</td>\n",
       "      <td>none</td>\n",
       "      <td>The apartment is located 10 min by metro from ...</td>\n",
       "      <td>A question ? Please contact us, we'll answer y...</td>\n",
       "      <td>...</td>\n",
       "      <td>f</td>\n",
       "      <td>flexible</td>\n",
       "      <td>f</td>\n",
       "      <td>f</td>\n",
       "      <td>1</td>\n",
       "      <td>0.06</td>\n",
       "      <td>35.0</td>\n",
       "      <td>(-7.79, 1558.0]</td>\n",
       "      <td>(-0.001, 50.0]</td>\n",
       "      <td>les petits</td>\n",
       "    </tr>\n",
       "  </tbody>\n",
       "</table>\n",
       "<p>5 rows × 98 columns</p>\n",
       "</div>"
      ],
      "text/plain": [
       "                                    listing_url       scrape_id last_scraped  \\\n",
       "id                                                                             \n",
       "3508970    https://www.airbnb.com/rooms/3508970  20170404145355   2017-04-06   \n",
       "13222966  https://www.airbnb.com/rooms/13222966  20170404145355   2017-04-06   \n",
       "7337128    https://www.airbnb.com/rooms/7337128  20170404145355   2017-04-06   \n",
       "5764597    https://www.airbnb.com/rooms/5764597  20170404145355   2017-04-06   \n",
       "7861852    https://www.airbnb.com/rooms/7861852  20170404145355   2017-04-06   \n",
       "\n",
       "                                                       name  \\\n",
       "id                                                            \n",
       "3508970                  Cosy Aptmt Bastille - Gare de Lyon   \n",
       "13222966  Modern & bright Haussmann STUDIO (25m2 +mezzan...   \n",
       "7337128                      One flat in Nation, Paris 12th   \n",
       "5764597                 Studio 32 M² avec Balcon à Paris 12   \n",
       "7861852                       Large private bedroom - Paris   \n",
       "\n",
       "                                                    summary  \\\n",
       "id                                                            \n",
       "3508970   Cosy petit appartement de 60m2 situé aux pieds...   \n",
       "13222966  This bright studio is located in an Haussmann ...   \n",
       "7337128   The apartment is located in Nation (Paris’ eas...   \n",
       "5764597                                           Bonjour !   \n",
       "7861852   Large bedroom (15 m²) in a spacious apartment ...   \n",
       "\n",
       "                                                      space  \\\n",
       "id                                                            \n",
       "3508970                                                 NaN   \n",
       "13222966                                                NaN   \n",
       "7337128                                                 NaN   \n",
       "5764597   Je vous propose un studio lumineux de 32m2 sit...   \n",
       "7861852   The bedroom is 15m² large and is equipped with...   \n",
       "\n",
       "                                                description  \\\n",
       "id                                                            \n",
       "3508970   Cosy petit appartement de 60m2 situé aux pieds...   \n",
       "13222966  This bright studio is located in an Haussmann ...   \n",
       "7337128   The apartment is located in Nation (Paris’ eas...   \n",
       "5764597   Bonjour ! Je vous propose un studio lumineux d...   \n",
       "7861852   Large bedroom (15 m²) in a spacious apartment ...   \n",
       "\n",
       "         experiences_offered  \\\n",
       "id                             \n",
       "3508970                 none   \n",
       "13222966                none   \n",
       "7337128                 none   \n",
       "5764597                 none   \n",
       "7861852                 none   \n",
       "\n",
       "                                      neighborhood_overview  \\\n",
       "id                                                            \n",
       "3508970   Marché d'Aligre, Coulée verte, Bastille, Squar...   \n",
       "13222966                                                NaN   \n",
       "7337128                                                 NaN   \n",
       "5764597   De nombreux restaurants sont à proximité, ains...   \n",
       "7861852   The apartment is located 10 min by metro from ...   \n",
       "\n",
       "                                                      notes     ...      \\\n",
       "id                                                              ...       \n",
       "3508970                                                 NaN     ...       \n",
       "13222966                                                NaN     ...       \n",
       "7337128                                                 NaN     ...       \n",
       "5764597                                                 NaN     ...       \n",
       "7861852   A question ? Please contact us, we'll answer y...     ...       \n",
       "\n",
       "         instant_bookable cancellation_policy require_guest_profile_picture  \\\n",
       "id                                                                            \n",
       "3508970                 f            moderate                             f   \n",
       "13222966                f            flexible                             f   \n",
       "7337128                 f              strict                             f   \n",
       "5764597                 f            flexible                             f   \n",
       "7861852                 f            flexible                             f   \n",
       "\n",
       "         require_guest_phone_verification calculated_host_listings_count  \\\n",
       "id                                                                         \n",
       "3508970                                 f                              1   \n",
       "13222966                                f                              1   \n",
       "7337128                                 f                              1   \n",
       "5764597                                 f                              1   \n",
       "7861852                                 f                              1   \n",
       "\n",
       "         reviews_per_month price_num       price_disc     price_disc2  \\\n",
       "id                                                                      \n",
       "3508970               0.46      80.0  (-7.79, 1558.0]    (65.0, 85.0]   \n",
       "13222966              0.30      55.0  (-7.79, 1558.0]    (50.0, 65.0]   \n",
       "7337128               0.58     104.0  (-7.79, 1558.0]   (85.0, 120.0]   \n",
       "5764597               1.21      45.0  (-7.79, 1558.0]  (-0.001, 50.0]   \n",
       "7861852               0.06      35.0  (-7.79, 1558.0]  (-0.001, 50.0]   \n",
       "\n",
       "         price_disc3  \n",
       "id                    \n",
       "3508970   les moyens  \n",
       "13222966  les moyens  \n",
       "7337128   les grands  \n",
       "5764597   les petits  \n",
       "7861852   les petits  \n",
       "\n",
       "[5 rows x 98 columns]"
      ]
     },
     "execution_count": 65,
     "metadata": {},
     "output_type": "execute_result"
    }
   ],
   "source": [
    "frame_airbnb.head()"
   ]
  },
  {
   "cell_type": "markdown",
   "metadata": {
    "slideshow": {
     "slide_type": "slide"
    }
   },
   "source": [
    "# Les tableaux croisés avec Pandas\n",
    "\n",
    "Les DataFrame possèdent des méthodes pour générer des tableaux croisés, notamment :\n",
    "```python\n",
    "frame1.pivot_table()\n",
    "```\n",
    "Cette méthode permet de gérer de nombreux cas avec des fonctions standards et sur mesure."
   ]
  },
  {
   "cell_type": "markdown",
   "metadata": {
    "slideshow": {
     "slide_type": "subslide"
    }
   },
   "source": [
    "**Exercice :**\n",
    "    \n",
    "Afficher un tableau Pivot pour les données AirBnB."
   ]
  },
  {
   "cell_type": "code",
   "execution_count": 66,
   "metadata": {},
   "outputs": [
    {
     "data": {
      "text/plain": [
       "Index(['listing_url', 'scrape_id', 'last_scraped', 'name', 'summary', 'space',\n",
       "       'description', 'experiences_offered', 'neighborhood_overview', 'notes',\n",
       "       'transit', 'access', 'interaction', 'house_rules', 'thumbnail_url',\n",
       "       'medium_url', 'picture_url', 'xl_picture_url', 'host_id', 'host_url',\n",
       "       'host_name', 'host_since', 'host_location', 'host_about',\n",
       "       'host_response_time', 'host_response_rate', 'host_acceptance_rate',\n",
       "       'host_is_superhost', 'host_thumbnail_url', 'host_picture_url',\n",
       "       'host_neighbourhood', 'host_listings_count',\n",
       "       'host_total_listings_count', 'host_verifications',\n",
       "       'host_has_profile_pic', 'host_identity_verified', 'street',\n",
       "       'neighbourhood', 'neighbourhood_cleansed',\n",
       "       'neighbourhood_group_cleansed', 'city', 'state', 'zipcode', 'market',\n",
       "       'smart_location', 'country_code', 'country', 'latitude', 'longitude',\n",
       "       'is_location_exact', 'property_type', 'room_type', 'accommodates',\n",
       "       'bathrooms', 'bedrooms', 'beds', 'bed_type', 'amenities', 'square_feet',\n",
       "       'price', 'weekly_price', 'monthly_price', 'security_deposit',\n",
       "       'cleaning_fee', 'guests_included', 'extra_people', 'minimum_nights',\n",
       "       'maximum_nights', 'calendar_updated', 'has_availability',\n",
       "       'availability_30', 'availability_60', 'availability_90',\n",
       "       'availability_365', 'calendar_last_scraped', 'number_of_reviews',\n",
       "       'first_review', 'last_review', 'review_scores_rating',\n",
       "       'review_scores_accuracy', 'review_scores_cleanliness',\n",
       "       'review_scores_checkin', 'review_scores_communication',\n",
       "       'review_scores_location', 'review_scores_value', 'requires_license',\n",
       "       'license', 'jurisdiction_names', 'instant_bookable',\n",
       "       'cancellation_policy', 'require_guest_profile_picture',\n",
       "       'require_guest_phone_verification', 'calculated_host_listings_count',\n",
       "       'reviews_per_month', 'price_num', 'price_disc', 'price_disc2',\n",
       "       'price_disc3'],\n",
       "      dtype='object')"
      ]
     },
     "execution_count": 66,
     "metadata": {},
     "output_type": "execute_result"
    }
   ],
   "source": [
    "frame_airbnb.columns"
   ]
  },
  {
   "cell_type": "code",
   "execution_count": 68,
   "metadata": {},
   "outputs": [
    {
     "data": {
      "text/html": [
       "<div>\n",
       "<style scoped>\n",
       "    .dataframe tbody tr th:only-of-type {\n",
       "        vertical-align: middle;\n",
       "    }\n",
       "\n",
       "    .dataframe tbody tr th {\n",
       "        vertical-align: top;\n",
       "    }\n",
       "\n",
       "    .dataframe thead th {\n",
       "        text-align: right;\n",
       "    }\n",
       "</style>\n",
       "<table border=\"1\" class=\"dataframe\">\n",
       "  <thead>\n",
       "    <tr style=\"text-align: right;\">\n",
       "      <th>room_type</th>\n",
       "      <th>Entire home/apt</th>\n",
       "      <th>Private room</th>\n",
       "      <th>Shared room</th>\n",
       "    </tr>\n",
       "    <tr>\n",
       "      <th>cancellation_policy</th>\n",
       "      <th></th>\n",
       "      <th></th>\n",
       "      <th></th>\n",
       "    </tr>\n",
       "  </thead>\n",
       "  <tbody>\n",
       "    <tr>\n",
       "      <th>flexible</th>\n",
       "      <td>87.940465</td>\n",
       "      <td>61.851204</td>\n",
       "      <td>45.920455</td>\n",
       "    </tr>\n",
       "    <tr>\n",
       "      <th>moderate</th>\n",
       "      <td>91.640948</td>\n",
       "      <td>53.652713</td>\n",
       "      <td>38.069444</td>\n",
       "    </tr>\n",
       "    <tr>\n",
       "      <th>strict</th>\n",
       "      <td>122.997373</td>\n",
       "      <td>61.435401</td>\n",
       "      <td>30.291667</td>\n",
       "    </tr>\n",
       "    <tr>\n",
       "      <th>super_strict_30</th>\n",
       "      <td>268.285714</td>\n",
       "      <td>NaN</td>\n",
       "      <td>NaN</td>\n",
       "    </tr>\n",
       "    <tr>\n",
       "      <th>super_strict_60</th>\n",
       "      <td>1862.454545</td>\n",
       "      <td>NaN</td>\n",
       "      <td>NaN</td>\n",
       "    </tr>\n",
       "  </tbody>\n",
       "</table>\n",
       "</div>"
      ],
      "text/plain": [
       "room_type            Entire home/apt  Private room  Shared room\n",
       "cancellation_policy                                            \n",
       "flexible                   87.940465     61.851204    45.920455\n",
       "moderate                   91.640948     53.652713    38.069444\n",
       "strict                    122.997373     61.435401    30.291667\n",
       "super_strict_30           268.285714           NaN          NaN\n",
       "super_strict_60          1862.454545           NaN          NaN"
      ]
     },
     "execution_count": 68,
     "metadata": {},
     "output_type": "execute_result"
    }
   ],
   "source": [
    "frame_airbnb.pivot_table(values=\"price_num\",index=\"cancellation_policy\",\n",
    "                         columns=\"room_type\",aggfunc=\"mean\")"
   ]
  },
  {
   "cell_type": "markdown",
   "metadata": {
    "slideshow": {
     "slide_type": "slide"
    }
   },
   "source": [
    "# L'utilisation de GroupBy sur des DataFrame\n",
    "\n",
    "- `.groupby` permet de rassembler des observations en fonction d’une variable dite de groupe\n",
    "\n",
    "\n",
    "- Par exemple, `frame.groupby('X').mean()` donnera les moyennes par groupes de `X`\n",
    "\n",
    "\n",
    "- On peut aussi utiliser `.size()` pour connaître la taille des groupes et utiliser d’autres fonctions (`.sum()`)\n",
    "\n",
    "\n",
    "- On peut effectuer de nombreuses opérations de traitement avec le groupby\n"
   ]
  },
  {
   "cell_type": "markdown",
   "metadata": {
    "slideshow": {
     "slide_type": "subslide"
    }
   },
   "source": [
    "**Exercice :**\n",
    "    \n",
    "- Données sur les salaires\n",
    "\n",
    "\n",
    "- On utilise le `groupby()` pour rassembler les types d’emploi\n",
    "\n",
    "\n",
    "- Et on calcule des statistiques pour chaque type\n",
    "\n",
    "\n",
    "On peut utiliser la méthode `.agg()` avec par exemple `'mean'` comme paramètre\n",
    "\n",
    "On utilise aussi fréquemment la méthode `.apply()` combinée à une fonction lambda"
   ]
  },
  {
   "cell_type": "code",
   "execution_count": 69,
   "metadata": {},
   "outputs": [
    {
     "data": {
      "text/plain": [
       "price_disc\n",
       "(-7.79, 1558.0]       95.141871\n",
       "(1558.0, 3116.0]    2198.466667\n",
       "(3116.0, 4674.0]            NaN\n",
       "(4674.0, 6232.0]    5356.666667\n",
       "(6232.0, 7790.0]    7790.000000\n",
       "Name: price_num, dtype: float64"
      ]
     },
     "execution_count": 69,
     "metadata": {},
     "output_type": "execute_result"
    }
   ],
   "source": [
    "frame_airbnb.groupby(\"price_disc\")[\"price_num\"].mean()"
   ]
  },
  {
   "cell_type": "code",
   "execution_count": 70,
   "metadata": {},
   "outputs": [],
   "source": [
    "frame_salaries[\"JobTitle\"] = frame_salaries[\"JobTitle\"].str.lower()"
   ]
  },
  {
   "cell_type": "code",
   "execution_count": 71,
   "metadata": {},
   "outputs": [
    {
     "data": {
      "text/plain": [
       "1637"
      ]
     },
     "execution_count": 71,
     "metadata": {},
     "output_type": "execute_result"
    }
   ],
   "source": [
    "frame_salaries[\"JobTitle\"].nunique()"
   ]
  },
  {
   "cell_type": "code",
   "execution_count": 72,
   "metadata": {},
   "outputs": [],
   "source": [
    "frame_job_stat = frame_salaries.groupby(\"JobTitle\")[\"TotalPay\"].agg([\"mean\", \n",
    "                                                    \"std\", \n",
    "                                                    \"count\"]).sort_values(\"count\",\n",
    "                                                                          ascending=False)"
   ]
  },
  {
   "cell_type": "code",
   "execution_count": 75,
   "metadata": {},
   "outputs": [
    {
     "data": {
      "text/plain": [
       "JobTitle\n",
       "account clerk                                          642.7568\n",
       "accountant                                             642.4361\n",
       "accountant i                                           516.8577\n",
       "accountant ii                                          808.8627\n",
       "accountant iii                                        1035.6796\n",
       "accountant intern                                      629.9034\n",
       "accountant iv                                         1115.5847\n",
       "acpo,juvp, juv prob (sfers)                              0.0000\n",
       "acupuncturist                                          119.0060\n",
       "adm, sfgh medical center                               124.6668\n",
       "admin analyst 3                                        928.4170\n",
       "admin hearing examiner                                 919.9616\n",
       "administrative analyst                                 976.4022\n",
       "administrative analyst i                               502.3077\n",
       "administrative analyst ii                              647.5597\n",
       "administrative analyst iii                               2.9697\n",
       "administrative engineer                               1428.6303\n",
       "administrative hearing sup                               0.0000\n",
       "administrative services manager                        377.4063\n",
       "administrative services mgr                            384.6700\n",
       "administrator, dph                                     517.3900\n",
       "administrator, sfgh medical center                       0.0000\n",
       "admission attendant                                    575.7036\n",
       "affirmative action specialist                          658.2350\n",
       "agricultural inspector                                 174.7048\n",
       "airport assistant deputy director, business admini       0.0000\n",
       "airport assistant deputy director, operations            0.0000\n",
       "airport communications disp                           1263.9013\n",
       "airport communications officer                         277.7040\n",
       "airport communications operator                        661.5157\n",
       "                                                        ...    \n",
       "water quality tech iii                                 878.0233\n",
       "water quality technician                               850.0640\n",
       "water quality technician i/ii                          755.1395\n",
       "water quality technician iii                           784.1702\n",
       "water qualitytech i/ii                                 935.2101\n",
       "water service inspector                               1285.8430\n",
       "watershed forester                                      37.5814\n",
       "watershed forester manager                               0.4571\n",
       "watershed keeper                                       831.0001\n",
       "watershed keeper supervisor                            292.3386\n",
       "watershed worker (seasonal)                            206.5860\n",
       "welder                                                1894.3007\n",
       "welfare fraud investigator                             970.5875\n",
       "wharfinger 1                                           376.6818\n",
       "wharfinger 2                                           507.9320\n",
       "wharfinger i                                             0.0000\n",
       "wharfinger ii                                          470.6873\n",
       "window cleaner                                         745.5739\n",
       "window cleaner supervisor                              119.1373\n",
       "wire rope cable maint mechanic                        1896.3064\n",
       "wire rope cable maint sprv                             342.5757\n",
       "wire rope cable maintenance mechanic                  2387.8011\n",
       "wire rope cable maintenance supervisor                   0.0000\n",
       "worker's comp supervisor 1                            1087.5339\n",
       "worker's compensation adjuster                        1042.1327\n",
       "worker's compensation supervisor i                     100.0724\n",
       "x-ray laboratory aide                                  988.0597\n",
       "youth comm advisor                                     383.3202\n",
       "youth commission advisor, board of supervisors           0.0000\n",
       "zoo curator                                              0.0000\n",
       "Name: TotalPay, Length: 1637, dtype: float64"
      ]
     },
     "execution_count": 75,
     "metadata": {},
     "output_type": "execute_result"
    }
   ],
   "source": [
    "frame_salaries.groupby(\"JobTitle\")[\"TotalPay\"].apply(lambda x : (x.max()-x.min())/100)"
   ]
  },
  {
   "cell_type": "code",
   "execution_count": null,
   "metadata": {},
   "outputs": [],
   "source": []
  }
 ],
 "metadata": {
  "celltoolbar": "Slideshow",
  "kernelspec": {
   "display_name": "Python 3",
   "language": "python",
   "name": "python3"
  },
  "language_info": {
   "codemirror_mode": {
    "name": "ipython",
    "version": 3
   },
   "file_extension": ".py",
   "mimetype": "text/x-python",
   "name": "python",
   "nbconvert_exporter": "python",
   "pygments_lexer": "ipython3",
   "version": "3.7.1"
  }
 },
 "nbformat": 4,
 "nbformat_minor": 2
}
